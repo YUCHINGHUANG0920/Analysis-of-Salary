{
 "cells": [
  {
   "cell_type": "markdown",
   "id": "33db68f1",
   "metadata": {},
   "source": [
    "# Analysis of Salary of \"Data Engineer\" and \"Software Engineer'' "
   ]
  },
  {
   "cell_type": "markdown",
   "id": "880fed20",
   "metadata": {},
   "source": [
    "### Introduction\n",
    "In a world abundant with diverse career options, individuals often prioritize salary as a pivotal factor when selecting their professional paths. Recognizing the significance of understanding the factors that exert influence on salaries, we embarked on a project aimed at deciphering patterns within a dataset obtained from Kaggle, encompassing salaries across various job titles. Employing Python and a four-step analytical process, we honed in on the specific theme of data engineers and software engineers because these two titles have similar job descriptions. This focused approach not only streamlined the analysis but also rendered results that are particularly relevant to those keen on understanding the salary dynamics within this professional domain."
   ]
  },
  {
   "cell_type": "markdown",
   "id": "5d98e722",
   "metadata": {
    "id": "cKPxyikaO3_K"
   },
   "source": [
    "We will be mainly using [numpy](https://numpy.org/), [pandas](https://pandas.pydata.org/pandas-docs/stable/user_guide/) and [matplotlib](https://matplotlib.org/) to work with this data."
   ]
  },
  {
   "cell_type": "code",
   "execution_count": 1,
   "id": "7bf8f4d9",
   "metadata": {},
   "outputs": [],
   "source": [
    "import pandas as pd\n",
    "import numpy as np\n",
    "import matplotlib.pyplot as plt\n",
    "import seaborn as sns\n",
    "from sklearn.linear_model import LinearRegression\n",
    "import sqlite3"
   ]
  },
  {
   "cell_type": "markdown",
   "id": "f9d7e01a",
   "metadata": {
    "id": "cKPxyikaO3_K"
   },
   "source": [
    "We will use Kaggle API to import the data. Then, we will load the data to create Pandas Dataframe by using the [read_csv](https://pandas.pydata.org/docs/reference/api/pandas.read_csv.html) in this step."
   ]
  },
  {
   "cell_type": "code",
   "execution_count": 2,
   "id": "300d1e40",
   "metadata": {
    "id": "FDREh-uRcw7K"
   },
   "outputs": [],
   "source": [
    "ori_df = pd.read_csv('Salary.csv')"
   ]
  },
  {
   "cell_type": "code",
   "execution_count": 3,
   "id": "eed611b0",
   "metadata": {},
   "outputs": [
    {
     "data": {
      "text/html": [
       "<div>\n",
       "<style scoped>\n",
       "    .dataframe tbody tr th:only-of-type {\n",
       "        vertical-align: middle;\n",
       "    }\n",
       "\n",
       "    .dataframe tbody tr th {\n",
       "        vertical-align: top;\n",
       "    }\n",
       "\n",
       "    .dataframe thead th {\n",
       "        text-align: right;\n",
       "    }\n",
       "</style>\n",
       "<table border=\"1\" class=\"dataframe\">\n",
       "  <thead>\n",
       "    <tr style=\"text-align: right;\">\n",
       "      <th></th>\n",
       "      <th>Age</th>\n",
       "      <th>Gender</th>\n",
       "      <th>Education Level</th>\n",
       "      <th>Job Title</th>\n",
       "      <th>Years of Experience</th>\n",
       "      <th>Salary</th>\n",
       "      <th>Country</th>\n",
       "      <th>Race</th>\n",
       "      <th>Senior</th>\n",
       "    </tr>\n",
       "  </thead>\n",
       "  <tbody>\n",
       "    <tr>\n",
       "      <th>0</th>\n",
       "      <td>32.0</td>\n",
       "      <td>Male</td>\n",
       "      <td>1</td>\n",
       "      <td>Software Engineer</td>\n",
       "      <td>5.0</td>\n",
       "      <td>90000.0</td>\n",
       "      <td>UK</td>\n",
       "      <td>White</td>\n",
       "      <td>0</td>\n",
       "    </tr>\n",
       "    <tr>\n",
       "      <th>1</th>\n",
       "      <td>28.0</td>\n",
       "      <td>Female</td>\n",
       "      <td>2</td>\n",
       "      <td>Data Analyst</td>\n",
       "      <td>3.0</td>\n",
       "      <td>65000.0</td>\n",
       "      <td>USA</td>\n",
       "      <td>Hispanic</td>\n",
       "      <td>0</td>\n",
       "    </tr>\n",
       "    <tr>\n",
       "      <th>2</th>\n",
       "      <td>45.0</td>\n",
       "      <td>Male</td>\n",
       "      <td>3</td>\n",
       "      <td>Manager</td>\n",
       "      <td>15.0</td>\n",
       "      <td>150000.0</td>\n",
       "      <td>Canada</td>\n",
       "      <td>White</td>\n",
       "      <td>1</td>\n",
       "    </tr>\n",
       "    <tr>\n",
       "      <th>3</th>\n",
       "      <td>36.0</td>\n",
       "      <td>Female</td>\n",
       "      <td>1</td>\n",
       "      <td>Sales Associate</td>\n",
       "      <td>7.0</td>\n",
       "      <td>60000.0</td>\n",
       "      <td>USA</td>\n",
       "      <td>Hispanic</td>\n",
       "      <td>0</td>\n",
       "    </tr>\n",
       "    <tr>\n",
       "      <th>4</th>\n",
       "      <td>52.0</td>\n",
       "      <td>Male</td>\n",
       "      <td>2</td>\n",
       "      <td>Director</td>\n",
       "      <td>20.0</td>\n",
       "      <td>200000.0</td>\n",
       "      <td>USA</td>\n",
       "      <td>Asian</td>\n",
       "      <td>0</td>\n",
       "    </tr>\n",
       "    <tr>\n",
       "      <th>...</th>\n",
       "      <td>...</td>\n",
       "      <td>...</td>\n",
       "      <td>...</td>\n",
       "      <td>...</td>\n",
       "      <td>...</td>\n",
       "      <td>...</td>\n",
       "      <td>...</td>\n",
       "      <td>...</td>\n",
       "      <td>...</td>\n",
       "    </tr>\n",
       "    <tr>\n",
       "      <th>6679</th>\n",
       "      <td>49.0</td>\n",
       "      <td>Female</td>\n",
       "      <td>3</td>\n",
       "      <td>Director of Marketing</td>\n",
       "      <td>20.0</td>\n",
       "      <td>200000.0</td>\n",
       "      <td>UK</td>\n",
       "      <td>Mixed</td>\n",
       "      <td>0</td>\n",
       "    </tr>\n",
       "    <tr>\n",
       "      <th>6680</th>\n",
       "      <td>32.0</td>\n",
       "      <td>Male</td>\n",
       "      <td>0</td>\n",
       "      <td>Sales Associate</td>\n",
       "      <td>3.0</td>\n",
       "      <td>50000.0</td>\n",
       "      <td>Australia</td>\n",
       "      <td>Australian</td>\n",
       "      <td>0</td>\n",
       "    </tr>\n",
       "    <tr>\n",
       "      <th>6681</th>\n",
       "      <td>30.0</td>\n",
       "      <td>Female</td>\n",
       "      <td>1</td>\n",
       "      <td>Financial Manager</td>\n",
       "      <td>4.0</td>\n",
       "      <td>55000.0</td>\n",
       "      <td>China</td>\n",
       "      <td>Chinese</td>\n",
       "      <td>0</td>\n",
       "    </tr>\n",
       "    <tr>\n",
       "      <th>6682</th>\n",
       "      <td>46.0</td>\n",
       "      <td>Male</td>\n",
       "      <td>2</td>\n",
       "      <td>Marketing Manager</td>\n",
       "      <td>14.0</td>\n",
       "      <td>140000.0</td>\n",
       "      <td>China</td>\n",
       "      <td>Korean</td>\n",
       "      <td>0</td>\n",
       "    </tr>\n",
       "    <tr>\n",
       "      <th>6683</th>\n",
       "      <td>26.0</td>\n",
       "      <td>Female</td>\n",
       "      <td>0</td>\n",
       "      <td>Sales Executive</td>\n",
       "      <td>1.0</td>\n",
       "      <td>35000.0</td>\n",
       "      <td>Canada</td>\n",
       "      <td>Black</td>\n",
       "      <td>0</td>\n",
       "    </tr>\n",
       "  </tbody>\n",
       "</table>\n",
       "<p>6684 rows × 9 columns</p>\n",
       "</div>"
      ],
      "text/plain": [
       "       Age  Gender  Education Level              Job Title  \\\n",
       "0     32.0    Male                1      Software Engineer   \n",
       "1     28.0  Female                2           Data Analyst   \n",
       "2     45.0    Male                3                Manager   \n",
       "3     36.0  Female                1        Sales Associate   \n",
       "4     52.0    Male                2               Director   \n",
       "...    ...     ...              ...                    ...   \n",
       "6679  49.0  Female                3  Director of Marketing   \n",
       "6680  32.0    Male                0        Sales Associate   \n",
       "6681  30.0  Female                1      Financial Manager   \n",
       "6682  46.0    Male                2      Marketing Manager   \n",
       "6683  26.0  Female                0        Sales Executive   \n",
       "\n",
       "      Years of Experience    Salary    Country        Race  Senior  \n",
       "0                     5.0   90000.0         UK       White       0  \n",
       "1                     3.0   65000.0        USA    Hispanic       0  \n",
       "2                    15.0  150000.0     Canada       White       1  \n",
       "3                     7.0   60000.0        USA    Hispanic       0  \n",
       "4                    20.0  200000.0        USA       Asian       0  \n",
       "...                   ...       ...        ...         ...     ...  \n",
       "6679                 20.0  200000.0         UK       Mixed       0  \n",
       "6680                  3.0   50000.0  Australia  Australian       0  \n",
       "6681                  4.0   55000.0      China     Chinese       0  \n",
       "6682                 14.0  140000.0      China      Korean       0  \n",
       "6683                  1.0   35000.0     Canada       Black       0  \n",
       "\n",
       "[6684 rows x 9 columns]"
      ]
     },
     "metadata": {},
     "output_type": "display_data"
    }
   ],
   "source": [
    "display(ori_df)"
   ]
  },
  {
   "cell_type": "markdown",
   "id": "48ea59e7",
   "metadata": {
    "id": "ul2QDWzKPpM4"
   },
   "source": [
    "### Step 1: Data Cleaning\n",
    "For subsequent analysis, we first need to cleanup this data to ensure it does not contain any unreasonable, missing, or duplicate values. We will begin by doing the following steps.\n",
    "\n",
    "1. Dealing with missing data, such as NANs, by using [dropna](https://pandas.pydata.org/docs/reference/api/pandas.DataFrame.dropna.html)\n",
    "\n",
    "2. Dealing with duplicate data by using [drop_duplicates](https://pandas.pydata.org/docs/reference/api/pandas.DataFrame.drop_duplicates.html)\n",
    "\n",
    "3. Deleting \"Gender\", \"Senior\" and \"Race\" columns and selecting \"data engineer\" and \"software engineer\" as we narrowed down our topic.\n",
    "\n",
    "4. Checking inconsistent and unreasonable data, such as data that \"Years of Experience\" > \"Age\" and \"Salary\" < 0."
   ]
  },
  {
   "cell_type": "code",
   "execution_count": 4,
   "id": "72399573",
   "metadata": {
    "cellView": "form",
    "id": "V6YUcK1n-T_I"
   },
   "outputs": [
    {
     "data": {
      "text/html": [
       "<div>\n",
       "<style scoped>\n",
       "    .dataframe tbody tr th:only-of-type {\n",
       "        vertical-align: middle;\n",
       "    }\n",
       "\n",
       "    .dataframe tbody tr th {\n",
       "        vertical-align: top;\n",
       "    }\n",
       "\n",
       "    .dataframe thead th {\n",
       "        text-align: right;\n",
       "    }\n",
       "</style>\n",
       "<table border=\"1\" class=\"dataframe\">\n",
       "  <thead>\n",
       "    <tr style=\"text-align: right;\">\n",
       "      <th></th>\n",
       "      <th>Age</th>\n",
       "      <th>Education Level</th>\n",
       "      <th>Job Title</th>\n",
       "      <th>Years of Experience</th>\n",
       "      <th>Salary</th>\n",
       "      <th>Country</th>\n",
       "    </tr>\n",
       "  </thead>\n",
       "  <tbody>\n",
       "    <tr>\n",
       "      <th>0</th>\n",
       "      <td>32.0</td>\n",
       "      <td>1</td>\n",
       "      <td>Software Engineer</td>\n",
       "      <td>5.0</td>\n",
       "      <td>90000.0</td>\n",
       "      <td>UK</td>\n",
       "    </tr>\n",
       "    <tr>\n",
       "      <th>1</th>\n",
       "      <td>28.0</td>\n",
       "      <td>2</td>\n",
       "      <td>Data Analyst</td>\n",
       "      <td>3.0</td>\n",
       "      <td>65000.0</td>\n",
       "      <td>USA</td>\n",
       "    </tr>\n",
       "    <tr>\n",
       "      <th>2</th>\n",
       "      <td>45.0</td>\n",
       "      <td>3</td>\n",
       "      <td>Manager</td>\n",
       "      <td>15.0</td>\n",
       "      <td>150000.0</td>\n",
       "      <td>Canada</td>\n",
       "    </tr>\n",
       "    <tr>\n",
       "      <th>3</th>\n",
       "      <td>36.0</td>\n",
       "      <td>1</td>\n",
       "      <td>Sales Associate</td>\n",
       "      <td>7.0</td>\n",
       "      <td>60000.0</td>\n",
       "      <td>USA</td>\n",
       "    </tr>\n",
       "    <tr>\n",
       "      <th>4</th>\n",
       "      <td>52.0</td>\n",
       "      <td>2</td>\n",
       "      <td>Director</td>\n",
       "      <td>20.0</td>\n",
       "      <td>200000.0</td>\n",
       "      <td>USA</td>\n",
       "    </tr>\n",
       "    <tr>\n",
       "      <th>...</th>\n",
       "      <td>...</td>\n",
       "      <td>...</td>\n",
       "      <td>...</td>\n",
       "      <td>...</td>\n",
       "      <td>...</td>\n",
       "      <td>...</td>\n",
       "    </tr>\n",
       "    <tr>\n",
       "      <th>6678</th>\n",
       "      <td>37.0</td>\n",
       "      <td>1</td>\n",
       "      <td>Sales Representative</td>\n",
       "      <td>6.0</td>\n",
       "      <td>75000.0</td>\n",
       "      <td>Canada</td>\n",
       "    </tr>\n",
       "    <tr>\n",
       "      <th>6679</th>\n",
       "      <td>49.0</td>\n",
       "      <td>3</td>\n",
       "      <td>Director of Marketing</td>\n",
       "      <td>20.0</td>\n",
       "      <td>200000.0</td>\n",
       "      <td>UK</td>\n",
       "    </tr>\n",
       "    <tr>\n",
       "      <th>6680</th>\n",
       "      <td>32.0</td>\n",
       "      <td>0</td>\n",
       "      <td>Sales Associate</td>\n",
       "      <td>3.0</td>\n",
       "      <td>50000.0</td>\n",
       "      <td>Australia</td>\n",
       "    </tr>\n",
       "    <tr>\n",
       "      <th>6681</th>\n",
       "      <td>30.0</td>\n",
       "      <td>1</td>\n",
       "      <td>Financial Manager</td>\n",
       "      <td>4.0</td>\n",
       "      <td>55000.0</td>\n",
       "      <td>China</td>\n",
       "    </tr>\n",
       "    <tr>\n",
       "      <th>6682</th>\n",
       "      <td>46.0</td>\n",
       "      <td>2</td>\n",
       "      <td>Marketing Manager</td>\n",
       "      <td>14.0</td>\n",
       "      <td>140000.0</td>\n",
       "      <td>China</td>\n",
       "    </tr>\n",
       "  </tbody>\n",
       "</table>\n",
       "<p>5148 rows × 6 columns</p>\n",
       "</div>"
      ],
      "text/plain": [
       "       Age  Education Level              Job Title  Years of Experience  \\\n",
       "0     32.0                1      Software Engineer                  5.0   \n",
       "1     28.0                2           Data Analyst                  3.0   \n",
       "2     45.0                3                Manager                 15.0   \n",
       "3     36.0                1        Sales Associate                  7.0   \n",
       "4     52.0                2               Director                 20.0   \n",
       "...    ...              ...                    ...                  ...   \n",
       "6678  37.0                1   Sales Representative                  6.0   \n",
       "6679  49.0                3  Director of Marketing                 20.0   \n",
       "6680  32.0                0        Sales Associate                  3.0   \n",
       "6681  30.0                1      Financial Manager                  4.0   \n",
       "6682  46.0                2      Marketing Manager                 14.0   \n",
       "\n",
       "        Salary    Country  \n",
       "0      90000.0         UK  \n",
       "1      65000.0        USA  \n",
       "2     150000.0     Canada  \n",
       "3      60000.0        USA  \n",
       "4     200000.0        USA  \n",
       "...        ...        ...  \n",
       "6678   75000.0     Canada  \n",
       "6679  200000.0         UK  \n",
       "6680   50000.0  Australia  \n",
       "6681   55000.0      China  \n",
       "6682  140000.0      China  \n",
       "\n",
       "[5148 rows x 6 columns]"
      ]
     },
     "metadata": {},
     "output_type": "display_data"
    }
   ],
   "source": [
    "df = ori_df.copy()\n",
    "df.dropna(axis = 0, inplace = True)\n",
    "df.drop_duplicates(inplace = True)\n",
    "df.drop(columns = ['Gender', 'Senior', 'Race'], inplace = True)\n",
    "display(df)"
   ]
  },
  {
   "cell_type": "code",
   "execution_count": 5,
   "id": "0662e9c5",
   "metadata": {},
   "outputs": [],
   "source": [
    "countries = df['Country'].unique()\n",
    "job_titles = ['Data Engineer', 'Software Engineer']\n",
    "df = df[df['Job Title'].isin(job_titles)]"
   ]
  },
  {
   "cell_type": "code",
   "execution_count": 6,
   "id": "d64c78b2",
   "metadata": {
    "cellView": "form",
    "colab": {
     "base_uri": "https://localhost:8080/"
    },
    "id": "971oVLdBBzJr",
    "outputId": "bff6b142-3db2-4ca4-d223-52dcd2e9c635"
   },
   "outputs": [],
   "source": [
    "inconsistent_data = df[df['Years of Experience'] > df['Age']]\n",
    "df.drop(inconsistent_data.index, inplace = True)"
   ]
  },
  {
   "cell_type": "code",
   "execution_count": 7,
   "id": "f7f1a04c",
   "metadata": {
    "cellView": "form",
    "colab": {
     "base_uri": "https://localhost:8080/"
    },
    "id": "97xt5GwRB14B",
    "outputId": "2f0ff245-4a05-449a-b03e-5894f320c78d"
   },
   "outputs": [
    {
     "data": {
      "text/html": [
       "<div>\n",
       "<style scoped>\n",
       "    .dataframe tbody tr th:only-of-type {\n",
       "        vertical-align: middle;\n",
       "    }\n",
       "\n",
       "    .dataframe tbody tr th {\n",
       "        vertical-align: top;\n",
       "    }\n",
       "\n",
       "    .dataframe thead th {\n",
       "        text-align: right;\n",
       "    }\n",
       "</style>\n",
       "<table border=\"1\" class=\"dataframe\">\n",
       "  <thead>\n",
       "    <tr style=\"text-align: right;\">\n",
       "      <th></th>\n",
       "      <th>Age</th>\n",
       "      <th>Education Level</th>\n",
       "      <th>Job Title</th>\n",
       "      <th>Years of Experience</th>\n",
       "      <th>Salary</th>\n",
       "      <th>Country</th>\n",
       "    </tr>\n",
       "  </thead>\n",
       "  <tbody>\n",
       "    <tr>\n",
       "      <th>0</th>\n",
       "      <td>32.0</td>\n",
       "      <td>1</td>\n",
       "      <td>Software Engineer</td>\n",
       "      <td>5.0</td>\n",
       "      <td>90000.0</td>\n",
       "      <td>UK</td>\n",
       "    </tr>\n",
       "    <tr>\n",
       "      <th>77</th>\n",
       "      <td>32.0</td>\n",
       "      <td>2</td>\n",
       "      <td>Software Engineer</td>\n",
       "      <td>6.0</td>\n",
       "      <td>100000.0</td>\n",
       "      <td>USA</td>\n",
       "    </tr>\n",
       "    <tr>\n",
       "      <th>159</th>\n",
       "      <td>28.0</td>\n",
       "      <td>1</td>\n",
       "      <td>Software Engineer</td>\n",
       "      <td>2.0</td>\n",
       "      <td>40000.0</td>\n",
       "      <td>Australia</td>\n",
       "    </tr>\n",
       "    <tr>\n",
       "      <th>169</th>\n",
       "      <td>34.0</td>\n",
       "      <td>2</td>\n",
       "      <td>Software Engineer</td>\n",
       "      <td>9.0</td>\n",
       "      <td>105000.0</td>\n",
       "      <td>China</td>\n",
       "    </tr>\n",
       "    <tr>\n",
       "      <th>213</th>\n",
       "      <td>44.0</td>\n",
       "      <td>1</td>\n",
       "      <td>Software Engineer</td>\n",
       "      <td>14.0</td>\n",
       "      <td>130000.0</td>\n",
       "      <td>China</td>\n",
       "    </tr>\n",
       "    <tr>\n",
       "      <th>...</th>\n",
       "      <td>...</td>\n",
       "      <td>...</td>\n",
       "      <td>...</td>\n",
       "      <td>...</td>\n",
       "      <td>...</td>\n",
       "      <td>...</td>\n",
       "    </tr>\n",
       "    <tr>\n",
       "      <th>5993</th>\n",
       "      <td>33.0</td>\n",
       "      <td>2</td>\n",
       "      <td>Software Engineer</td>\n",
       "      <td>8.0</td>\n",
       "      <td>120000.0</td>\n",
       "      <td>UK</td>\n",
       "    </tr>\n",
       "    <tr>\n",
       "      <th>5997</th>\n",
       "      <td>28.0</td>\n",
       "      <td>1</td>\n",
       "      <td>Software Engineer</td>\n",
       "      <td>3.0</td>\n",
       "      <td>70000.0</td>\n",
       "      <td>UK</td>\n",
       "    </tr>\n",
       "    <tr>\n",
       "      <th>6003</th>\n",
       "      <td>28.0</td>\n",
       "      <td>1</td>\n",
       "      <td>Software Engineer</td>\n",
       "      <td>3.0</td>\n",
       "      <td>70000.0</td>\n",
       "      <td>Canada</td>\n",
       "    </tr>\n",
       "    <tr>\n",
       "      <th>6114</th>\n",
       "      <td>26.0</td>\n",
       "      <td>2</td>\n",
       "      <td>Software Engineer</td>\n",
       "      <td>2.0</td>\n",
       "      <td>75000.0</td>\n",
       "      <td>China</td>\n",
       "    </tr>\n",
       "    <tr>\n",
       "      <th>6121</th>\n",
       "      <td>27.0</td>\n",
       "      <td>1</td>\n",
       "      <td>Software Engineer</td>\n",
       "      <td>2.0</td>\n",
       "      <td>70000.0</td>\n",
       "      <td>Australia</td>\n",
       "    </tr>\n",
       "  </tbody>\n",
       "</table>\n",
       "<p>594 rows × 6 columns</p>\n",
       "</div>"
      ],
      "text/plain": [
       "       Age  Education Level          Job Title  Years of Experience    Salary  \\\n",
       "0     32.0                1  Software Engineer                  5.0   90000.0   \n",
       "77    32.0                2  Software Engineer                  6.0  100000.0   \n",
       "159   28.0                1  Software Engineer                  2.0   40000.0   \n",
       "169   34.0                2  Software Engineer                  9.0  105000.0   \n",
       "213   44.0                1  Software Engineer                 14.0  130000.0   \n",
       "...    ...              ...                ...                  ...       ...   \n",
       "5993  33.0                2  Software Engineer                  8.0  120000.0   \n",
       "5997  28.0                1  Software Engineer                  3.0   70000.0   \n",
       "6003  28.0                1  Software Engineer                  3.0   70000.0   \n",
       "6114  26.0                2  Software Engineer                  2.0   75000.0   \n",
       "6121  27.0                1  Software Engineer                  2.0   70000.0   \n",
       "\n",
       "        Country  \n",
       "0            UK  \n",
       "77          USA  \n",
       "159   Australia  \n",
       "169       China  \n",
       "213       China  \n",
       "...         ...  \n",
       "5993         UK  \n",
       "5997         UK  \n",
       "6003     Canada  \n",
       "6114      China  \n",
       "6121  Australia  \n",
       "\n",
       "[594 rows x 6 columns]"
      ]
     },
     "metadata": {},
     "output_type": "display_data"
    }
   ],
   "source": [
    "negative_salary = df[df['Salary'] < 0]\n",
    "df.drop(negative_salary.index, inplace = True)\n",
    "display(df)"
   ]
  },
  {
   "cell_type": "markdown",
   "id": "e82b4ae1",
   "metadata": {
    "id": "Q4bNpuYYLFT-"
   },
   "source": [
    "### Step 2: Statistical Analysis\n",
    "The term \"data engineers\" and \"software engineers\" will be collectively referred to as \"engineers\" in the following analysis.\n",
    "\n",
    "Based on the outcomes of Step 2, the DataFrame named \"df\" represents a dataset of data engineers and software engineers in the USA, Canada, China, Australia, and the UK.\n",
    "\n",
    "Our goal is to investigate the relationships among different attributes of engineers (data engineers and software engineers) in these five countries through the analysis of df. Consequently, we will create various statistical summaries using numpy's and pandas' functions, including max, min, std, sum, and more. In addition, we will group the data by age, years of experience, education level and country using [groupby](https://pandas.pydata.org/pandas-docs/stable/reference/api/pandas.DataFrame.groupby.html) to explore the relationships between each attribute and salary."
   ]
  },
  {
   "cell_type": "markdown",
   "id": "37edc6f8",
   "metadata": {
    "id": "TQ64rowb2KOa"
   },
   "source": [
    "#### Age:"
   ]
  },
  {
   "cell_type": "code",
   "execution_count": 8,
   "id": "15685b7c",
   "metadata": {
    "cellView": "form",
    "colab": {
     "base_uri": "https://localhost:8080/",
     "height": 235
    },
    "id": "6SW42ShUcykF",
    "outputId": "0d0c20de-dc4c-4c3e-8917-da5843a0a301"
   },
   "outputs": [
    {
     "data": {
      "text/html": [
       "<div>\n",
       "<style scoped>\n",
       "    .dataframe tbody tr th:only-of-type {\n",
       "        vertical-align: middle;\n",
       "    }\n",
       "\n",
       "    .dataframe tbody tr th {\n",
       "        vertical-align: top;\n",
       "    }\n",
       "\n",
       "    .dataframe thead th {\n",
       "        text-align: right;\n",
       "    }\n",
       "</style>\n",
       "<table border=\"1\" class=\"dataframe\">\n",
       "  <thead>\n",
       "    <tr style=\"text-align: right;\">\n",
       "      <th></th>\n",
       "      <th>Max</th>\n",
       "      <th>Min</th>\n",
       "      <th>Range</th>\n",
       "      <th>Standard deviation</th>\n",
       "      <th>Ave</th>\n",
       "      <th># &lt;= Ave</th>\n",
       "      <th># &gt; Ave</th>\n",
       "    </tr>\n",
       "  </thead>\n",
       "  <tbody>\n",
       "    <tr>\n",
       "      <th>USA</th>\n",
       "      <td>58.0</td>\n",
       "      <td>23.0</td>\n",
       "      <td>35.0</td>\n",
       "      <td>6.952511</td>\n",
       "      <td>32.403226</td>\n",
       "      <td>86</td>\n",
       "      <td>38</td>\n",
       "    </tr>\n",
       "    <tr>\n",
       "      <th>Canada</th>\n",
       "      <td>54.0</td>\n",
       "      <td>23.0</td>\n",
       "      <td>31.0</td>\n",
       "      <td>7.451569</td>\n",
       "      <td>33.109244</td>\n",
       "      <td>79</td>\n",
       "      <td>40</td>\n",
       "    </tr>\n",
       "    <tr>\n",
       "      <th>China</th>\n",
       "      <td>58.0</td>\n",
       "      <td>22.0</td>\n",
       "      <td>36.0</td>\n",
       "      <td>7.950737</td>\n",
       "      <td>33.473684</td>\n",
       "      <td>71</td>\n",
       "      <td>43</td>\n",
       "    </tr>\n",
       "    <tr>\n",
       "      <th>Australia</th>\n",
       "      <td>52.0</td>\n",
       "      <td>23.0</td>\n",
       "      <td>29.0</td>\n",
       "      <td>6.561298</td>\n",
       "      <td>31.906780</td>\n",
       "      <td>72</td>\n",
       "      <td>46</td>\n",
       "    </tr>\n",
       "    <tr>\n",
       "      <th>UK</th>\n",
       "      <td>54.0</td>\n",
       "      <td>23.0</td>\n",
       "      <td>31.0</td>\n",
       "      <td>6.725052</td>\n",
       "      <td>32.243697</td>\n",
       "      <td>79</td>\n",
       "      <td>40</td>\n",
       "    </tr>\n",
       "    <tr>\n",
       "      <th>Total</th>\n",
       "      <td>58.0</td>\n",
       "      <td>22.0</td>\n",
       "      <td>36.0</td>\n",
       "      <td>7.161440</td>\n",
       "      <td>32.619529</td>\n",
       "      <td>393</td>\n",
       "      <td>201</td>\n",
       "    </tr>\n",
       "  </tbody>\n",
       "</table>\n",
       "</div>"
      ],
      "text/plain": [
       "            Max   Min  Range  Standard deviation        Ave  # <= Ave  # > Ave\n",
       "USA        58.0  23.0   35.0            6.952511  32.403226        86       38\n",
       "Canada     54.0  23.0   31.0            7.451569  33.109244        79       40\n",
       "China      58.0  22.0   36.0            7.950737  33.473684        71       43\n",
       "Australia  52.0  23.0   29.0            6.561298  31.906780        72       46\n",
       "UK         54.0  23.0   31.0            6.725052  32.243697        79       40\n",
       "Total      58.0  22.0   36.0            7.161440  32.619529       393      201"
      ]
     },
     "metadata": {},
     "output_type": "display_data"
    }
   ],
   "source": [
    "ages = np.array(df['Age'])\n",
    "ages_USA = np.array(df[df.Country == 'USA']['Age'])\n",
    "ages_Canada = np.array(df[df.Country == 'Canada']['Age'])\n",
    "ages_China = np.array(df[df.Country == 'China']['Age'])\n",
    "ages_Australia = np.array(df[df.Country == 'Australia']['Age'])\n",
    "ages_UK = np.array(df[df.Country == 'UK']['Age'])\n",
    "\n",
    "ages_df = pd.DataFrame([[ages_USA.max(), ages_USA.min(), ages_USA.ptp(), ages_USA.std(), ages_USA.mean(), np.sum(ages_USA<=ages_USA.mean()), np.sum(ages_USA>ages_USA.mean())],\n",
    "                        [ages_Canada.max(), ages_Canada.min(), ages_Canada.ptp(), ages_Canada.std(), ages_Canada.mean(), np.sum(ages_Canada<=ages_Canada.mean()), np.sum(ages_Canada>ages_Canada.mean())],\n",
    "                        [ages_China.max(), ages_China.min(), ages_China.ptp(), ages_China.std(), ages_China.mean(), np.sum(ages_China<=ages_China.mean()), np.sum(ages_China>ages_China.mean())],\n",
    "                        [ages_Australia.max(), ages_Australia.min(), ages_Australia.ptp(), ages_Australia.std(), ages_Australia.mean(), np.sum(ages_Australia<=ages_Australia.mean()), np.sum(ages_Australia>ages_Australia.mean())],\n",
    "                        [ages_UK.max(), ages_UK.min(), ages_UK.ptp(), ages_UK.std(), ages_UK.mean(), np.sum(ages_UK<=ages_UK.mean()), np.sum(ages_UK>ages_UK.mean())],\n",
    "                        [ages.max(), ages.min(), ages.ptp(), ages.std(),ages.mean(), np.sum(ages<=ages.mean()), np.sum(ages>ages.mean())]],\n",
    "                       columns = ['Max', 'Min', 'Range', 'Standard deviation', 'Ave', '# <= Ave', '# > Ave'], \\\n",
    "                       index = ['USA', 'Canada', 'China', 'Australia', 'UK', 'Total'])\n",
    "\n",
    "display(ages_df)"
   ]
  },
  {
   "cell_type": "markdown",
   "id": "f1597233",
   "metadata": {},
   "source": [
    "The table above reveals that China has the oldest engineers, as evidenced by the maximum age of 58 years old. On the other hand, the minimum age is quite similar across these five countries (aorund 22 and 23 years old). Therefore, the age distribution range and the average age of engineers in China are the largest among these five countries."
   ]
  },
  {
   "cell_type": "markdown",
   "id": "dfa60758",
   "metadata": {
    "id": "uuH2eAFFtunU"
   },
   "source": [
    "#### Years of Experience:"
   ]
  },
  {
   "cell_type": "code",
   "execution_count": 9,
   "id": "35df242d",
   "metadata": {
    "cellView": "form",
    "colab": {
     "base_uri": "https://localhost:8080/",
     "height": 235
    },
    "id": "3Ak5oHKQ2g16",
    "outputId": "ff7c33a8-4c2d-403b-bd2c-2319c4f5dd99",
    "scrolled": true
   },
   "outputs": [
    {
     "data": {
      "text/html": [
       "<div>\n",
       "<style scoped>\n",
       "    .dataframe tbody tr th:only-of-type {\n",
       "        vertical-align: middle;\n",
       "    }\n",
       "\n",
       "    .dataframe tbody tr th {\n",
       "        vertical-align: top;\n",
       "    }\n",
       "\n",
       "    .dataframe thead th {\n",
       "        text-align: right;\n",
       "    }\n",
       "</style>\n",
       "<table border=\"1\" class=\"dataframe\">\n",
       "  <thead>\n",
       "    <tr style=\"text-align: right;\">\n",
       "      <th></th>\n",
       "      <th>Max</th>\n",
       "      <th>Min</th>\n",
       "      <th>Range</th>\n",
       "      <th>Standard deviation</th>\n",
       "      <th>Ave</th>\n",
       "      <th># &lt;= Ave</th>\n",
       "      <th># &gt; Ave</th>\n",
       "    </tr>\n",
       "  </thead>\n",
       "  <tbody>\n",
       "    <tr>\n",
       "      <th>USA</th>\n",
       "      <td>27.0</td>\n",
       "      <td>1.0</td>\n",
       "      <td>26.0</td>\n",
       "      <td>6.351742</td>\n",
       "      <td>7.814516</td>\n",
       "      <td>76</td>\n",
       "      <td>48</td>\n",
       "    </tr>\n",
       "    <tr>\n",
       "      <th>Canada</th>\n",
       "      <td>32.0</td>\n",
       "      <td>1.0</td>\n",
       "      <td>31.0</td>\n",
       "      <td>6.846589</td>\n",
       "      <td>8.327731</td>\n",
       "      <td>79</td>\n",
       "      <td>40</td>\n",
       "    </tr>\n",
       "    <tr>\n",
       "      <th>China</th>\n",
       "      <td>32.0</td>\n",
       "      <td>1.0</td>\n",
       "      <td>31.0</td>\n",
       "      <td>6.971759</td>\n",
       "      <td>8.385965</td>\n",
       "      <td>73</td>\n",
       "      <td>41</td>\n",
       "    </tr>\n",
       "    <tr>\n",
       "      <th>Australia</th>\n",
       "      <td>28.0</td>\n",
       "      <td>1.0</td>\n",
       "      <td>27.0</td>\n",
       "      <td>5.887605</td>\n",
       "      <td>7.118644</td>\n",
       "      <td>76</td>\n",
       "      <td>42</td>\n",
       "    </tr>\n",
       "    <tr>\n",
       "      <th>UK</th>\n",
       "      <td>32.0</td>\n",
       "      <td>1.0</td>\n",
       "      <td>31.0</td>\n",
       "      <td>6.483617</td>\n",
       "      <td>7.747899</td>\n",
       "      <td>72</td>\n",
       "      <td>47</td>\n",
       "    </tr>\n",
       "    <tr>\n",
       "      <th>Total</th>\n",
       "      <td>32.0</td>\n",
       "      <td>1.0</td>\n",
       "      <td>31.0</td>\n",
       "      <td>6.531300</td>\n",
       "      <td>7.875421</td>\n",
       "      <td>359</td>\n",
       "      <td>235</td>\n",
       "    </tr>\n",
       "  </tbody>\n",
       "</table>\n",
       "</div>"
      ],
      "text/plain": [
       "            Max  Min  Range  Standard deviation       Ave  # <= Ave  # > Ave\n",
       "USA        27.0  1.0   26.0            6.351742  7.814516        76       48\n",
       "Canada     32.0  1.0   31.0            6.846589  8.327731        79       40\n",
       "China      32.0  1.0   31.0            6.971759  8.385965        73       41\n",
       "Australia  28.0  1.0   27.0            5.887605  7.118644        76       42\n",
       "UK         32.0  1.0   31.0            6.483617  7.747899        72       47\n",
       "Total      32.0  1.0   31.0            6.531300  7.875421       359      235"
      ]
     },
     "metadata": {},
     "output_type": "display_data"
    }
   ],
   "source": [
    "years = np.array(df['Years of Experience'])\n",
    "years_USA = np.array(df[df.Country == 'USA']['Years of Experience'])\n",
    "years_Canada = np.array(df[df.Country == 'Canada']['Years of Experience'])\n",
    "years_China = np.array(df[df.Country == 'China']['Years of Experience'])\n",
    "years_Australia = np.array(df[df.Country == 'Australia']['Years of Experience'])\n",
    "years_UK = np.array(df[df.Country == 'UK']['Years of Experience'])\n",
    "\n",
    "years_df = pd.DataFrame([[years_USA.max(), years_USA.min(), years_USA.ptp(), years_USA.std(), years_USA.mean(), np.sum(years_USA<=years_USA.mean()), np.sum(years_USA>years_USA.mean())],\n",
    "                        [years_Canada.max(), years_Canada.min(), years_Canada.ptp(), years_Canada.std(), years_Canada.mean(), np.sum(years_Canada<=years_Canada.mean()), np.sum(years_Canada>years_Canada.mean())],\n",
    "                        [years_China.max(), years_China.min(), years_China.ptp(), years_China.std(), years_China.mean(), np.sum(years_China<=years_China.mean()), np.sum(years_China>years_China.mean())],\n",
    "                        [years_Australia.max(), years_Australia.min(), years_Australia.ptp(), years_Australia.std(), years_Australia.mean(), np.sum(years_Australia<=years_Australia.mean()), np.sum(years_Australia>years_Australia.mean())],\n",
    "                        [years_UK.max(), years_UK.min(), years_UK.ptp(), years_UK.std(), years_UK.mean(), np.sum(years_UK<=years_UK.mean()), np.sum(years_UK>years_UK.mean())],\n",
    "                        [years.max(), years.min(), years.ptp(), years.std(), years.mean(), np.sum(years<=years.mean()), np.sum(years>years.mean())]],\n",
    "                       columns=['Max', 'Min', 'Range', 'Standard deviation', 'Ave', '# <= Ave', '# > Ave'], \\\n",
    "                       index=['USA', 'Canada', 'China', 'Australia', 'UK', 'Total'])\n",
    "\n",
    "display(years_df)"
   ]
  },
  {
   "cell_type": "markdown",
   "id": "0e87b628",
   "metadata": {},
   "source": [
    "The table above indicates that engineers in these five countries all have at least one year of work experience. The average years of work experience range from seven to eight years. "
   ]
  },
  {
   "cell_type": "markdown",
   "id": "ae6ec61e",
   "metadata": {
    "id": "NIJolqjmtq0T"
   },
   "source": [
    "#### Education Level:"
   ]
  },
  {
   "cell_type": "code",
   "execution_count": 10,
   "id": "48bbbfe5",
   "metadata": {
    "cellView": "form",
    "colab": {
     "base_uri": "https://localhost:8080/",
     "height": 235
    },
    "id": "iJDkcyFl2SYo",
    "outputId": "e50f783f-2be0-4dbe-ea0a-fc43766b62c4"
   },
   "outputs": [
    {
     "data": {
      "text/html": [
       "<div>\n",
       "<style scoped>\n",
       "    .dataframe tbody tr th:only-of-type {\n",
       "        vertical-align: middle;\n",
       "    }\n",
       "\n",
       "    .dataframe tbody tr th {\n",
       "        vertical-align: top;\n",
       "    }\n",
       "\n",
       "    .dataframe thead th {\n",
       "        text-align: right;\n",
       "    }\n",
       "</style>\n",
       "<table border=\"1\" class=\"dataframe\">\n",
       "  <thead>\n",
       "    <tr style=\"text-align: right;\">\n",
       "      <th></th>\n",
       "      <th>Max</th>\n",
       "      <th>Min</th>\n",
       "      <th>Range</th>\n",
       "      <th>Standard deviation</th>\n",
       "      <th>Ave</th>\n",
       "      <th># &lt;= Ave</th>\n",
       "      <th># &gt; Ave</th>\n",
       "    </tr>\n",
       "  </thead>\n",
       "  <tbody>\n",
       "    <tr>\n",
       "      <th>USA</th>\n",
       "      <td>3</td>\n",
       "      <td>1</td>\n",
       "      <td>2</td>\n",
       "      <td>0.580869</td>\n",
       "      <td>1.403226</td>\n",
       "      <td>80</td>\n",
       "      <td>44</td>\n",
       "    </tr>\n",
       "    <tr>\n",
       "      <th>Canada</th>\n",
       "      <td>3</td>\n",
       "      <td>1</td>\n",
       "      <td>2</td>\n",
       "      <td>0.576718</td>\n",
       "      <td>1.462185</td>\n",
       "      <td>69</td>\n",
       "      <td>50</td>\n",
       "    </tr>\n",
       "    <tr>\n",
       "      <th>China</th>\n",
       "      <td>3</td>\n",
       "      <td>1</td>\n",
       "      <td>2</td>\n",
       "      <td>0.638606</td>\n",
       "      <td>1.491228</td>\n",
       "      <td>67</td>\n",
       "      <td>47</td>\n",
       "    </tr>\n",
       "    <tr>\n",
       "      <th>Australia</th>\n",
       "      <td>3</td>\n",
       "      <td>0</td>\n",
       "      <td>3</td>\n",
       "      <td>0.605977</td>\n",
       "      <td>1.364407</td>\n",
       "      <td>79</td>\n",
       "      <td>39</td>\n",
       "    </tr>\n",
       "    <tr>\n",
       "      <th>UK</th>\n",
       "      <td>3</td>\n",
       "      <td>1</td>\n",
       "      <td>2</td>\n",
       "      <td>0.557543</td>\n",
       "      <td>1.420168</td>\n",
       "      <td>73</td>\n",
       "      <td>46</td>\n",
       "    </tr>\n",
       "    <tr>\n",
       "      <th>Total</th>\n",
       "      <td>3</td>\n",
       "      <td>0</td>\n",
       "      <td>3</td>\n",
       "      <td>0.593720</td>\n",
       "      <td>1.427609</td>\n",
       "      <td>368</td>\n",
       "      <td>226</td>\n",
       "    </tr>\n",
       "  </tbody>\n",
       "</table>\n",
       "</div>"
      ],
      "text/plain": [
       "           Max  Min  Range  Standard deviation       Ave  # <= Ave  # > Ave\n",
       "USA          3    1      2            0.580869  1.403226        80       44\n",
       "Canada       3    1      2            0.576718  1.462185        69       50\n",
       "China        3    1      2            0.638606  1.491228        67       47\n",
       "Australia    3    0      3            0.605977  1.364407        79       39\n",
       "UK           3    1      2            0.557543  1.420168        73       46\n",
       "Total        3    0      3            0.593720  1.427609       368      226"
      ]
     },
     "metadata": {},
     "output_type": "display_data"
    }
   ],
   "source": [
    "edu = np.array(df['Education Level'])\n",
    "edu_USA = np.array(df[df.Country == 'USA']['Education Level'])\n",
    "edu_Canada = np.array(df[df.Country == 'Canada']['Education Level'])\n",
    "edu_China = np.array(df[df.Country == 'China']['Education Level'])\n",
    "edu_Australia = np.array(df[df.Country == 'Australia']['Education Level'])\n",
    "edu_UK = np.array(df[df.Country == 'UK']['Education Level'])\n",
    "\n",
    "edu_df = pd.DataFrame([[edu_USA.max(), edu_USA.min(), edu_USA.ptp(), edu_USA.std(), edu_USA.mean(), np.sum(edu_USA<=edu_USA.mean()), np.sum(edu_USA>edu_USA.mean())],\n",
    "                        [edu_Canada.max(), edu_Canada.min(), edu_Canada.ptp(), edu_Canada.std(), edu_Canada.mean(), np.sum(edu_Canada<=edu_Canada.mean()), np.sum(edu_Canada>edu_Canada.mean())],\n",
    "                        [edu_China.max(), edu_China.min(), edu_China.ptp(), edu_China.std(), edu_China.mean(), np.sum(edu_China<=edu_China.mean()), np.sum(edu_China>edu_China.mean())],\n",
    "                        [edu_Australia.max(), edu_Australia.min(), edu_Australia.ptp(), edu_Australia.std(), edu_Australia.mean(), np.sum(edu_Australia<=edu_Australia.mean()), np.sum(edu_Australia>edu_Australia.mean())],\n",
    "                        [edu_UK.max(), edu_UK.min(), edu_UK.ptp(), edu_UK.std(), edu_UK.mean(), np.sum(edu_UK<=edu_UK.mean()), np.sum(edu_UK>edu_UK.mean())],\n",
    "                        [edu.max(), edu.min(),edu.ptp(), edu.std(), edu.mean(), np.sum(edu<=edu.mean()), np.sum(edu>edu.mean())]],\n",
    "                       columns=['Max', 'Min', 'Range', 'Standard deviation', 'Ave', '# <= Ave', '# > Ave'], \\\n",
    "                       index=['USA', 'Canada', 'China', 'Australia', 'UK', 'Total'])\n",
    "\n",
    "display(edu_df)"
   ]
  },
  {
   "cell_type": "markdown",
   "id": "967f95e2",
   "metadata": {},
   "source": [
    "From the table above, it can be observed that only engineers in Australia have individuals with an education level of zero, signifying high school graduates. In contrast, engineers in the other countries have a minimum education level of one, indicating at least a university degree. \n",
    "\n",
    "The education levels are categorized as follows: level 0 represents high school graduation, level 1 represents university graduation, level 2 represents postgraduate studies, and level 3 represents doctoral graduation."
   ]
  },
  {
   "cell_type": "markdown",
   "id": "6b3b2486",
   "metadata": {
    "id": "J_bb8XMTsjxd"
   },
   "source": [
    "#### Salary:"
   ]
  },
  {
   "cell_type": "code",
   "execution_count": 11,
   "id": "9c901c1f",
   "metadata": {
    "cellView": "form",
    "colab": {
     "base_uri": "https://localhost:8080/",
     "height": 638
    },
    "id": "8G-Kt-GiVoUD",
    "outputId": "59986edc-206c-4a5e-eeae-6051b2b6e8a8"
   },
   "outputs": [
    {
     "data": {
      "text/html": [
       "<div>\n",
       "<style scoped>\n",
       "    .dataframe tbody tr th:only-of-type {\n",
       "        vertical-align: middle;\n",
       "    }\n",
       "\n",
       "    .dataframe tbody tr th {\n",
       "        vertical-align: top;\n",
       "    }\n",
       "\n",
       "    .dataframe thead th {\n",
       "        text-align: right;\n",
       "    }\n",
       "</style>\n",
       "<table border=\"1\" class=\"dataframe\">\n",
       "  <thead>\n",
       "    <tr style=\"text-align: right;\">\n",
       "      <th></th>\n",
       "      <th>Salary</th>\n",
       "    </tr>\n",
       "    <tr>\n",
       "      <th>Age</th>\n",
       "      <th></th>\n",
       "    </tr>\n",
       "  </thead>\n",
       "  <tbody>\n",
       "    <tr>\n",
       "      <th>22.0</th>\n",
       "      <td>50000.00</td>\n",
       "    </tr>\n",
       "    <tr>\n",
       "      <th>23.0</th>\n",
       "      <td>52631.58</td>\n",
       "    </tr>\n",
       "    <tr>\n",
       "      <th>24.0</th>\n",
       "      <td>57500.00</td>\n",
       "    </tr>\n",
       "    <tr>\n",
       "      <th>25.0</th>\n",
       "      <td>58600.00</td>\n",
       "    </tr>\n",
       "    <tr>\n",
       "      <th>26.0</th>\n",
       "      <td>52360.00</td>\n",
       "    </tr>\n",
       "    <tr>\n",
       "      <th>27.0</th>\n",
       "      <td>96705.26</td>\n",
       "    </tr>\n",
       "    <tr>\n",
       "      <th>28.0</th>\n",
       "      <td>125344.42</td>\n",
       "    </tr>\n",
       "    <tr>\n",
       "      <th>29.0</th>\n",
       "      <td>102811.00</td>\n",
       "    </tr>\n",
       "    <tr>\n",
       "      <th>30.0</th>\n",
       "      <td>101223.20</td>\n",
       "    </tr>\n",
       "    <tr>\n",
       "      <th>31.0</th>\n",
       "      <td>119166.24</td>\n",
       "    </tr>\n",
       "    <tr>\n",
       "      <th>32.0</th>\n",
       "      <td>155540.70</td>\n",
       "    </tr>\n",
       "    <tr>\n",
       "      <th>33.0</th>\n",
       "      <td>113102.12</td>\n",
       "    </tr>\n",
       "    <tr>\n",
       "      <th>34.0</th>\n",
       "      <td>156428.57</td>\n",
       "    </tr>\n",
       "    <tr>\n",
       "      <th>35.0</th>\n",
       "      <td>140066.80</td>\n",
       "    </tr>\n",
       "    <tr>\n",
       "      <th>36.0</th>\n",
       "      <td>139685.46</td>\n",
       "    </tr>\n",
       "    <tr>\n",
       "      <th>37.0</th>\n",
       "      <td>149705.88</td>\n",
       "    </tr>\n",
       "    <tr>\n",
       "      <th>38.0</th>\n",
       "      <td>151390.73</td>\n",
       "    </tr>\n",
       "    <tr>\n",
       "      <th>39.0</th>\n",
       "      <td>149305.00</td>\n",
       "    </tr>\n",
       "    <tr>\n",
       "      <th>40.0</th>\n",
       "      <td>159361.71</td>\n",
       "    </tr>\n",
       "    <tr>\n",
       "      <th>41.0</th>\n",
       "      <td>179375.00</td>\n",
       "    </tr>\n",
       "    <tr>\n",
       "      <th>42.0</th>\n",
       "      <td>167834.10</td>\n",
       "    </tr>\n",
       "    <tr>\n",
       "      <th>43.0</th>\n",
       "      <td>176564.20</td>\n",
       "    </tr>\n",
       "    <tr>\n",
       "      <th>44.0</th>\n",
       "      <td>152050.50</td>\n",
       "    </tr>\n",
       "    <tr>\n",
       "      <th>45.0</th>\n",
       "      <td>175555.47</td>\n",
       "    </tr>\n",
       "    <tr>\n",
       "      <th>46.0</th>\n",
       "      <td>164605.57</td>\n",
       "    </tr>\n",
       "    <tr>\n",
       "      <th>47.0</th>\n",
       "      <td>173750.00</td>\n",
       "    </tr>\n",
       "    <tr>\n",
       "      <th>48.0</th>\n",
       "      <td>185866.00</td>\n",
       "    </tr>\n",
       "    <tr>\n",
       "      <th>50.0</th>\n",
       "      <td>180346.00</td>\n",
       "    </tr>\n",
       "    <tr>\n",
       "      <th>51.0</th>\n",
       "      <td>186610.00</td>\n",
       "    </tr>\n",
       "    <tr>\n",
       "      <th>52.0</th>\n",
       "      <td>186466.00</td>\n",
       "    </tr>\n",
       "    <tr>\n",
       "      <th>54.0</th>\n",
       "      <td>193175.40</td>\n",
       "    </tr>\n",
       "    <tr>\n",
       "      <th>58.0</th>\n",
       "      <td>190004.00</td>\n",
       "    </tr>\n",
       "  </tbody>\n",
       "</table>\n",
       "</div>"
      ],
      "text/plain": [
       "         Salary\n",
       "Age            \n",
       "22.0   50000.00\n",
       "23.0   52631.58\n",
       "24.0   57500.00\n",
       "25.0   58600.00\n",
       "26.0   52360.00\n",
       "27.0   96705.26\n",
       "28.0  125344.42\n",
       "29.0  102811.00\n",
       "30.0  101223.20\n",
       "31.0  119166.24\n",
       "32.0  155540.70\n",
       "33.0  113102.12\n",
       "34.0  156428.57\n",
       "35.0  140066.80\n",
       "36.0  139685.46\n",
       "37.0  149705.88\n",
       "38.0  151390.73\n",
       "39.0  149305.00\n",
       "40.0  159361.71\n",
       "41.0  179375.00\n",
       "42.0  167834.10\n",
       "43.0  176564.20\n",
       "44.0  152050.50\n",
       "45.0  175555.47\n",
       "46.0  164605.57\n",
       "47.0  173750.00\n",
       "48.0  185866.00\n",
       "50.0  180346.00\n",
       "51.0  186610.00\n",
       "52.0  186466.00\n",
       "54.0  193175.40\n",
       "58.0  190004.00"
      ]
     },
     "metadata": {},
     "output_type": "display_data"
    }
   ],
   "source": [
    "# Average Salary by Age\n",
    "age_salary_df = pd.DataFrame(df.groupby(by='Age')['Salary'].mean().round(2))\n",
    "display(age_salary_df)"
   ]
  },
  {
   "cell_type": "code",
   "execution_count": 12,
   "id": "ddf3a878",
   "metadata": {},
   "outputs": [
    {
     "data": {
      "text/plain": [
       "Age\n",
       "54.0    193175.4\n",
       "Name: Salary, dtype: float64"
      ]
     },
     "execution_count": 12,
     "metadata": {},
     "output_type": "execute_result"
    }
   ],
   "source": [
    "age_salary_df.loc[age_salary_df.idxmax(), 'Salary']"
   ]
  },
  {
   "cell_type": "markdown",
   "id": "5bdebf45",
   "metadata": {},
   "source": [
    "We will analyze the data from five countries as a whole, calculating the average salary for different age groups. From the results, we can observe that the highest salary occurs at the age of 54, and there is a trend of increasing salaries with age. Subsequently, we will use figures to present this more clearly."
   ]
  },
  {
   "cell_type": "code",
   "execution_count": 13,
   "id": "2ae898d4",
   "metadata": {
    "cellView": "form",
    "colab": {
     "base_uri": "https://localhost:8080/",
     "height": 452
    },
    "id": "nzvKLwNwqucW",
    "outputId": "b7ffa163-31a1-4850-e7d0-9dba7da4675b"
   },
   "outputs": [
    {
     "data": {
      "text/html": [
       "<div>\n",
       "<style scoped>\n",
       "    .dataframe tbody tr th:only-of-type {\n",
       "        vertical-align: middle;\n",
       "    }\n",
       "\n",
       "    .dataframe tbody tr th {\n",
       "        vertical-align: top;\n",
       "    }\n",
       "\n",
       "    .dataframe thead th {\n",
       "        text-align: right;\n",
       "    }\n",
       "</style>\n",
       "<table border=\"1\" class=\"dataframe\">\n",
       "  <thead>\n",
       "    <tr style=\"text-align: right;\">\n",
       "      <th></th>\n",
       "      <th>Salary</th>\n",
       "    </tr>\n",
       "    <tr>\n",
       "      <th>Years of Experience</th>\n",
       "      <th></th>\n",
       "    </tr>\n",
       "  </thead>\n",
       "  <tbody>\n",
       "    <tr>\n",
       "      <th>1.0</th>\n",
       "      <td>52214.29</td>\n",
       "    </tr>\n",
       "    <tr>\n",
       "      <th>2.0</th>\n",
       "      <td>57297.30</td>\n",
       "    </tr>\n",
       "    <tr>\n",
       "      <th>3.0</th>\n",
       "      <td>79056.60</td>\n",
       "    </tr>\n",
       "    <tr>\n",
       "      <th>4.0</th>\n",
       "      <td>104648.94</td>\n",
       "    </tr>\n",
       "    <tr>\n",
       "      <th>5.0</th>\n",
       "      <td>126252.35</td>\n",
       "    </tr>\n",
       "    <tr>\n",
       "      <th>6.0</th>\n",
       "      <td>137839.96</td>\n",
       "    </tr>\n",
       "    <tr>\n",
       "      <th>7.0</th>\n",
       "      <td>119047.97</td>\n",
       "    </tr>\n",
       "    <tr>\n",
       "      <th>8.0</th>\n",
       "      <td>160092.68</td>\n",
       "    </tr>\n",
       "    <tr>\n",
       "      <th>9.0</th>\n",
       "      <td>147291.67</td>\n",
       "    </tr>\n",
       "    <tr>\n",
       "      <th>10.0</th>\n",
       "      <td>161408.61</td>\n",
       "    </tr>\n",
       "    <tr>\n",
       "      <th>11.0</th>\n",
       "      <td>163497.90</td>\n",
       "    </tr>\n",
       "    <tr>\n",
       "      <th>12.0</th>\n",
       "      <td>170238.10</td>\n",
       "    </tr>\n",
       "    <tr>\n",
       "      <th>13.0</th>\n",
       "      <td>146048.82</td>\n",
       "    </tr>\n",
       "    <tr>\n",
       "      <th>14.0</th>\n",
       "      <td>159310.07</td>\n",
       "    </tr>\n",
       "    <tr>\n",
       "      <th>15.0</th>\n",
       "      <td>149429.75</td>\n",
       "    </tr>\n",
       "    <tr>\n",
       "      <th>16.0</th>\n",
       "      <td>146579.50</td>\n",
       "    </tr>\n",
       "    <tr>\n",
       "      <th>18.0</th>\n",
       "      <td>165339.60</td>\n",
       "    </tr>\n",
       "    <tr>\n",
       "      <th>19.0</th>\n",
       "      <td>179294.69</td>\n",
       "    </tr>\n",
       "    <tr>\n",
       "      <th>20.0</th>\n",
       "      <td>158346.43</td>\n",
       "    </tr>\n",
       "    <tr>\n",
       "      <th>21.0</th>\n",
       "      <td>181717.50</td>\n",
       "    </tr>\n",
       "    <tr>\n",
       "      <th>22.0</th>\n",
       "      <td>176511.71</td>\n",
       "    </tr>\n",
       "    <tr>\n",
       "      <th>23.0</th>\n",
       "      <td>180632.40</td>\n",
       "    </tr>\n",
       "    <tr>\n",
       "      <th>24.0</th>\n",
       "      <td>184322.00</td>\n",
       "    </tr>\n",
       "    <tr>\n",
       "      <th>26.0</th>\n",
       "      <td>189727.00</td>\n",
       "    </tr>\n",
       "    <tr>\n",
       "      <th>27.0</th>\n",
       "      <td>188399.00</td>\n",
       "    </tr>\n",
       "    <tr>\n",
       "      <th>28.0</th>\n",
       "      <td>186845.33</td>\n",
       "    </tr>\n",
       "    <tr>\n",
       "      <th>30.0</th>\n",
       "      <td>186321.00</td>\n",
       "    </tr>\n",
       "    <tr>\n",
       "      <th>31.0</th>\n",
       "      <td>193746.00</td>\n",
       "    </tr>\n",
       "    <tr>\n",
       "      <th>32.0</th>\n",
       "      <td>195270.00</td>\n",
       "    </tr>\n",
       "  </tbody>\n",
       "</table>\n",
       "</div>"
      ],
      "text/plain": [
       "                        Salary\n",
       "Years of Experience           \n",
       "1.0                   52214.29\n",
       "2.0                   57297.30\n",
       "3.0                   79056.60\n",
       "4.0                  104648.94\n",
       "5.0                  126252.35\n",
       "6.0                  137839.96\n",
       "7.0                  119047.97\n",
       "8.0                  160092.68\n",
       "9.0                  147291.67\n",
       "10.0                 161408.61\n",
       "11.0                 163497.90\n",
       "12.0                 170238.10\n",
       "13.0                 146048.82\n",
       "14.0                 159310.07\n",
       "15.0                 149429.75\n",
       "16.0                 146579.50\n",
       "18.0                 165339.60\n",
       "19.0                 179294.69\n",
       "20.0                 158346.43\n",
       "21.0                 181717.50\n",
       "22.0                 176511.71\n",
       "23.0                 180632.40\n",
       "24.0                 184322.00\n",
       "26.0                 189727.00\n",
       "27.0                 188399.00\n",
       "28.0                 186845.33\n",
       "30.0                 186321.00\n",
       "31.0                 193746.00\n",
       "32.0                 195270.00"
      ]
     },
     "metadata": {},
     "output_type": "display_data"
    }
   ],
   "source": [
    "# Average Salary by Years of Experience\n",
    "year_salary_df = pd.DataFrame(df.groupby(by='Years of Experience')['Salary'].mean().round(2))\n",
    "display(year_salary_df)"
   ]
  },
  {
   "cell_type": "code",
   "execution_count": 14,
   "id": "5340fb7f",
   "metadata": {},
   "outputs": [
    {
     "data": {
      "text/plain": [
       "Years of Experience\n",
       "32.0    195270.0\n",
       "Name: Salary, dtype: float64"
      ]
     },
     "execution_count": 14,
     "metadata": {},
     "output_type": "execute_result"
    }
   ],
   "source": [
    "year_salary_df.loc[year_salary_df.idxmax(), 'Salary']"
   ]
  },
  {
   "cell_type": "markdown",
   "id": "ee047859",
   "metadata": {},
   "source": [
    "Similarly, we will calculate the average salary for different years of work experience. From the results, we can observe that the highest salary is found among engineers with 32 years of work experience, and there is a trend of increasing salaries with the number of years of work experience. Subsequently, we will use figures to present this more clearly as well."
   ]
  },
  {
   "cell_type": "code",
   "execution_count": 15,
   "id": "85b46645",
   "metadata": {
    "cellView": "form",
    "colab": {
     "base_uri": "https://localhost:8080/",
     "height": 173
    },
    "id": "fXnCouLZrpJY",
    "outputId": "5dd1a308-1083-468e-f9bf-7d1ddd328933"
   },
   "outputs": [
    {
     "data": {
      "text/html": [
       "<div>\n",
       "<style scoped>\n",
       "    .dataframe tbody tr th:only-of-type {\n",
       "        vertical-align: middle;\n",
       "    }\n",
       "\n",
       "    .dataframe tbody tr th {\n",
       "        vertical-align: top;\n",
       "    }\n",
       "\n",
       "    .dataframe thead th {\n",
       "        text-align: right;\n",
       "    }\n",
       "</style>\n",
       "<table border=\"1\" class=\"dataframe\">\n",
       "  <thead>\n",
       "    <tr style=\"text-align: right;\">\n",
       "      <th></th>\n",
       "      <th>Salary</th>\n",
       "    </tr>\n",
       "    <tr>\n",
       "      <th>Education Level</th>\n",
       "      <th></th>\n",
       "    </tr>\n",
       "  </thead>\n",
       "  <tbody>\n",
       "    <tr>\n",
       "      <th>0</th>\n",
       "      <td>165919.00</td>\n",
       "    </tr>\n",
       "    <tr>\n",
       "      <th>1</th>\n",
       "      <td>107661.75</td>\n",
       "    </tr>\n",
       "    <tr>\n",
       "      <th>2</th>\n",
       "      <td>143183.48</td>\n",
       "    </tr>\n",
       "    <tr>\n",
       "      <th>3</th>\n",
       "      <td>166154.60</td>\n",
       "    </tr>\n",
       "  </tbody>\n",
       "</table>\n",
       "</div>"
      ],
      "text/plain": [
       "                    Salary\n",
       "Education Level           \n",
       "0                165919.00\n",
       "1                107661.75\n",
       "2                143183.48\n",
       "3                166154.60"
      ]
     },
     "metadata": {},
     "output_type": "display_data"
    }
   ],
   "source": [
    "# Average Salary by Education Level\n",
    "edu_salary_df = pd.DataFrame(df.groupby(by='Education Level')['Salary'].mean().round(2))\n",
    "display(edu_salary_df)"
   ]
  },
  {
   "cell_type": "code",
   "execution_count": 16,
   "id": "d8a99dbd",
   "metadata": {},
   "outputs": [
    {
     "data": {
      "text/plain": [
       "Education Level\n",
       "3    166154.6\n",
       "Name: Salary, dtype: float64"
      ]
     },
     "execution_count": 16,
     "metadata": {},
     "output_type": "execute_result"
    }
   ],
   "source": [
    "edu_salary_df.loc[edu_salary_df.idxmax(), 'Salary']"
   ]
  },
  {
   "cell_type": "markdown",
   "id": "ea93a173",
   "metadata": {},
   "source": [
    "Next, we calculate the average salary for different education levels. From the results, we can observe that the highest salary is found among engineers with education level three. However, the salary for level zero is not necessarily the lowest, suggesting that there may not be a strictly positive correlation between education level and salary. Subsequently, we will use figures to present this more clearly."
   ]
  },
  {
   "cell_type": "code",
   "execution_count": 17,
   "id": "8ce9b4a1",
   "metadata": {
    "cellView": "form",
    "colab": {
     "base_uri": "https://localhost:8080/",
     "height": 235
    },
    "id": "Fg0_CjMQrwXD",
    "outputId": "fc2e36c4-6d56-44b3-be41-12d9883dea54"
   },
   "outputs": [
    {
     "data": {
      "text/html": [
       "<div>\n",
       "<style scoped>\n",
       "    .dataframe tbody tr th:only-of-type {\n",
       "        vertical-align: middle;\n",
       "    }\n",
       "\n",
       "    .dataframe tbody tr th {\n",
       "        vertical-align: top;\n",
       "    }\n",
       "\n",
       "    .dataframe thead th {\n",
       "        text-align: right;\n",
       "    }\n",
       "</style>\n",
       "<table border=\"1\" class=\"dataframe\">\n",
       "  <thead>\n",
       "    <tr style=\"text-align: right;\">\n",
       "      <th></th>\n",
       "      <th>Salary</th>\n",
       "    </tr>\n",
       "    <tr>\n",
       "      <th>Country</th>\n",
       "      <th></th>\n",
       "    </tr>\n",
       "  </thead>\n",
       "  <tbody>\n",
       "    <tr>\n",
       "      <th>Canada</th>\n",
       "      <td>126978.40</td>\n",
       "    </tr>\n",
       "    <tr>\n",
       "      <th>China</th>\n",
       "      <td>123874.48</td>\n",
       "    </tr>\n",
       "    <tr>\n",
       "      <th>USA</th>\n",
       "      <td>123646.65</td>\n",
       "    </tr>\n",
       "    <tr>\n",
       "      <th>UK</th>\n",
       "      <td>119898.61</td>\n",
       "    </tr>\n",
       "    <tr>\n",
       "      <th>Australia</th>\n",
       "      <td>118240.69</td>\n",
       "    </tr>\n",
       "  </tbody>\n",
       "</table>\n",
       "</div>"
      ],
      "text/plain": [
       "              Salary\n",
       "Country             \n",
       "Canada     126978.40\n",
       "China      123874.48\n",
       "USA        123646.65\n",
       "UK         119898.61\n",
       "Australia  118240.69"
      ]
     },
     "metadata": {},
     "output_type": "display_data"
    }
   ],
   "source": [
    "# Average Salary in Different Countries (Sorted in Descending Order)\n",
    "country_salary_df = pd.DataFrame(df.groupby(by='Country')['Salary'].mean().round(2).sort_values(ascending = False))\n",
    "display(country_salary_df)"
   ]
  },
  {
   "cell_type": "markdown",
   "id": "38ec5739",
   "metadata": {},
   "source": [
    "Finally, when examining the average salary of engineers in each country, we can observe that Canada has the highest average engineer salary, while Australia has the lowest, with a difference of approximately ten thousand US dollars."
   ]
  },
  {
   "cell_type": "markdown",
   "id": "90b99116",
   "metadata": {
    "id": "VtKTYOCdQeF9"
   },
   "source": [
    "### Step 3: Visualization\n",
    "This project aims to gain a deeper understanding of the engineer profession in different countries, specifically focusing on salary, age, years of work experience, and education levels. To identify any distinct distribution trends and explore potential relationships among these factors, we will generate several figures as follows."
   ]
  },
  {
   "cell_type": "markdown",
   "id": "6fb30248",
   "metadata": {
    "id": "diE0lFVLs3bC"
   },
   "source": [
    "####  Age:\n",
    "Starting with Age, we will do visualizations using box plots and histograms to observe the age distribution of engineers across the five countries. We will begin by doing the following steps.\n",
    "\n",
    "1. Drawing box plots and observe the distribution of engineers' ages in different countries by using matplotlib's [boxplot](https://matplotlib.org/stable/api/_as_gen/matplotlib.pyplot.boxplot.html).\n",
    "\n",
    "2. Drawing histograms by using matplotlib's [hist](https://matplotlib.org/stable/api/_as_gen/matplotlib.pyplot.hist.html), and combining them with [seaborn](https://seaborn.pydata.org/tutorial/introduction.html)'s [kdeplot](https://seaborn.pydata.org/generated/seaborn.kdeplot.html) to overlay the histogram and KDE on the same plot. This helps to observe the distribution of engineers' ages across different countries.\n",
    "\n",
    "3. Drawing a scatter plot by using matplotlib's [scatter](https://matplotlib.org/stable/api/_as_gen/matplotlib.pyplot.scatter.html), then fitting a straight line expressing the relationship between age and salary by using [scikit-learn](https://scikit-learn.org/stable/)'s [LinearRegression](https://scikit-learn.org/stable/modules/generated/sklearn.linear_model.LinearRegression.html).\n",
    "\n",
    "4. Calculating the correlation coefficient between the two variables by using the [corr](https://pandas.pydata.org/docs/reference/api/pandas.DataFrame.corr.html), indicating whether there is a correlation between them."
   ]
  },
  {
   "cell_type": "code",
   "execution_count": 18,
   "id": "f9c1b04b",
   "metadata": {
    "cellView": "form",
    "colab": {
     "base_uri": "https://localhost:8080/",
     "height": 482
    },
    "id": "SBo6DxxGs2Vz",
    "outputId": "442b070c-2074-4c71-d371-f1f073993fc3"
   },
   "outputs": [
    {
     "data": {
      "image/png": "[encoded data removed]",
      "text/plain": [
       "<Figure size 1000x500 with 1 Axes>"
      ]
     },
     "metadata": {},
     "output_type": "display_data"
    }
   ],
   "source": [
    "data_0 = [ages_Australia, ages_Canada, ages_China, ages_UK, ages_USA]\n",
    "Country_name = ['Australia', 'Canada', 'China', 'UK', 'USA']\n",
    "\n",
    "fig0 = plt.figure(figsize = (10,5))\n",
    "ax0 = fig0.add_subplot(1,1,1)\n",
    "\n",
    "ax0.boxplot(data_0, labels = Country_name,\n",
    "            patch_artist = True,\n",
    "            boxprops = dict(facecolor = 'whitesmoke'),\n",
    "            capprops = dict(color = 'red'),\n",
    "            medianprops = dict(color = 'green'),\n",
    "            flierprops = dict(marker = '.', markerfacecolor = 'red', markeredgecolor = 'red'))\n",
    "ax0.set_title('Age Distribution in different countries (box plot)', fontsize = 12)\n",
    "ax0.set_xlabel('Country', fontsize = 9)\n",
    "ax0.set_ylabel('Age', fontsize = 9)\n",
    "ax0.tick_params(axis = 'both', labelsize = 8)"
   ]
  },
  {
   "cell_type": "markdown",
   "id": "8bc58de4",
   "metadata": {
    "id": "MdMW6koLQ9Fc"
   },
   "source": [
    "From the above box plot, it can be observed that only China has no outliers. Regardless of these outliers, China still has the oldest engineers, with exceeding 55 years old. If we exclude these outliers, the engineers with the maximum age in Canada rank second. Engineers from the other three countries have a similar maximum age, approximately 48 years old."
   ]
  },
  {
   "cell_type": "code",
   "execution_count": 19,
   "id": "39080dec",
   "metadata": {
    "cellView": "form",
    "colab": {
     "base_uri": "https://localhost:8080/",
     "height": 240
    },
    "id": "SKHcZ_t-RFNB",
    "outputId": "797bb1da-1e91-4ac2-86a2-14eabcde2f71"
   },
   "outputs": [
    {
     "data": {
      "image/png": "[encoded data removed]",
      "text/plain": [
       "<Figure size 2700x400 with 10 Axes>"
      ]
     },
     "metadata": {},
     "output_type": "display_data"
    }
   ],
   "source": [
    "fig1, ax1 = plt.subplots(1, 5, figsize = (27,4))\n",
    "\n",
    "for i in range(len(data_0)):\n",
    "    ax = ax1[i]\n",
    "\n",
    "    n, bins, patches = ax.hist(data_0[i], bins = 8,\n",
    "                                 range = (20, 60),\n",
    "                                alpha = 0.5,\n",
    "                                color = 'deepskyblue',\n",
    "                                rwidth = 0.9)\n",
    "\n",
    "    ax.set_title(f'{Country_name[i]}', fontsize = 12)\n",
    "    ax.set_xlabel('Age', fontsize = 9)\n",
    "    if i == 0:\n",
    "        ax.set_ylabel('Frequency', fontsize = 9)\n",
    "    ax.tick_params(axis = 'both', labelsize = 8)\n",
    "    ax.set_ylim(0, 70)\n",
    "    ax.set_xticks(bins)\n",
    "\n",
    "    axb = ax.twinx()\n",
    "\n",
    "    sns.kdeplot(data_0[i], ax = axb, color = 'blue', linewidth = 1)\n",
    "\n",
    "    axb.set_yticks([0, 0.05, 0.1, 0.15])\n",
    "    if i == 4:\n",
    "        axb.set_ylabel('KDE', fontsize = 9, rotation = 270, labelpad = 10)\n",
    "    else:\n",
    "        axb.set_ylabel('')\n",
    "    axb.tick_params(axis = 'both', labelsize = 8)"
   ]
  },
  {
   "cell_type": "markdown",
   "id": "3e67dd72",
   "metadata": {
    "id": "4XNYQEerRQuf"
   },
   "source": [
    "From the above histograms, they can be observed that the age distributions in these five countries are right-skewed, indicating a higher proportion of younger engineers. The highest number of engineers falls within the age range of 25 to 30 years."
   ]
  },
  {
   "cell_type": "code",
   "execution_count": 20,
   "id": "739accdd",
   "metadata": {
    "cellView": "form",
    "colab": {
     "base_uri": "https://localhost:8080/",
     "height": 484
    },
    "id": "NF_dHJQPReq4",
    "outputId": "0a05370e-7e3c-46c2-b1c1-be46afd1ca69"
   },
   "outputs": [
    {
     "data": {
      "text/plain": [
       "[<matplotlib.lines.Line2D at 0x1549c6f10>]"
      ]
     },
     "execution_count": 20,
     "metadata": {},
     "output_type": "execute_result"
    },
    {
     "data": {
      "image/png": "[encoded data removed]",
      "text/plain": [
       "<Figure size 640x480 with 1 Axes>"
      ]
     },
     "metadata": {},
     "output_type": "display_data"
    }
   ],
   "source": [
    "fig2, ax2 = plt.subplots()\n",
    "\n",
    "y1 = np.array(df['Age'])\n",
    "x1 = np.array(df['Salary']/1000)\n",
    "\n",
    "ax2.scatter(x1, y1, color = 'lightsteelblue', s = 7)\n",
    "ax2.set_xlabel('Salary (thousand)', fontsize = 10)\n",
    "ax2.set_ylabel('Age', fontsize = 10)\n",
    "ax2.tick_params(axis = 'both', labelsize = 6)\n",
    "ax2.set_title('Relationship between Age and Salary')\n",
    "\n",
    "model1 = LinearRegression()\n",
    "model1.fit(np.array(x1).reshape(-1, 1), y1)\n",
    "ax2.plot(x1, model1.predict(np.array(x1).reshape(-1, 1)), color = 'blue')"
   ]
  },
  {
   "cell_type": "code",
   "execution_count": 21,
   "id": "fe3547ea",
   "metadata": {
    "colab": {
     "base_uri": "https://localhost:8080/"
    },
    "id": "rmwPRTseRegt",
    "outputId": "c3671e10-a668-400f-dcdd-50ed4b0b6294"
   },
   "outputs": [
    {
     "data": {
      "text/plain": [
       "0.6705694858702578"
      ]
     },
     "execution_count": 21,
     "metadata": {},
     "output_type": "execute_result"
    }
   ],
   "source": [
    "# correlation coefficient\n",
    "df['Age'].corr(df['Salary'])"
   ]
  },
  {
   "cell_type": "markdown",
   "id": "0dc42a49",
   "metadata": {
    "id": "rIiTwAqkRnLR"
   },
   "source": [
    "The plot above illustrates the relationship between age and salary. The blue solid line represents the linear regression line, and their correlation coefficient is 0.67, falling within the range of 0.3 to 0.7. This suggests a moderate positive correlation between age and salary for the engineering profession."
   ]
  },
  {
   "cell_type": "markdown",
   "id": "ab3c7175",
   "metadata": {
    "id": "9rJKXtgpRscq"
   },
   "source": [
    "#### Years of Experience:\n",
    "Moving on to years of work experience, we will utilize box plots and histograms to visualize the distribution across the five countries as well. We will begin by doing the following steps.\n",
    "\n",
    "1. Drawing box plots and observe the distribution of engineers' years of work experience in different countries by using matplotlib's [boxplot](https://matplotlib.org/stable/api/_as_gen/matplotlib.pyplot.boxplot.html).\n",
    "\n",
    "2. Drawing histograms by using matplotlib's [hist](https://matplotlib.org/stable/api/_as_gen/matplotlib.pyplot.hist.html), and combining them with [seaborn](https://seaborn.pydata.org/tutorial/introduction.html)'s [kdeplot](https://seaborn.pydata.org/generated/seaborn.kdeplot.html) to overlay the histogram and KDE on the same plot. This helps to observe the distribution of engineers' years of work experience across different countries.\n",
    "\n",
    "3. Drawing a scatter plot by using matplotlib's [scatter](https://matplotlib.org/stable/api/_as_gen/matplotlib.pyplot.scatter.html), then fitting a straight line expressing the relationship between years of work experience and salary by using [scikit-learn](https://scikit-learn.org/stable/)'s [LinearRegression](https://scikit-learn.org/stable/modules/generated/sklearn.linear_model.LinearRegression.html).\n",
    "\n",
    "4. Calculating the correlation coefficient between the two variables by using the [corr](https://pandas.pydata.org/docs/reference/api/pandas.DataFrame.corr.html), indicating whether there is a correlation between them."
   ]
  },
  {
   "cell_type": "code",
   "execution_count": 22,
   "id": "216f987d",
   "metadata": {
    "cellView": "form",
    "colab": {
     "base_uri": "https://localhost:8080/",
     "height": 482
    },
    "id": "h2xusX9IRy92",
    "outputId": "a9795c73-7b83-4c59-b76b-019b441f4cb2"
   },
   "outputs": [
    {
     "data": {
      "image/png": "[encoded data removed]",
      "text/plain": [
       "<Figure size 1000x500 with 1 Axes>"
      ]
     },
     "metadata": {},
     "output_type": "display_data"
    }
   ],
   "source": [
    "data_1 = [years_Australia, years_Canada, years_China, years_UK, years_USA]\n",
    "\n",
    "fig3 = plt.figure(figsize = (10,5))\n",
    "ax3 = fig3.add_subplot(1,1,1)\n",
    "\n",
    "ax3.boxplot(data_1, labels = Country_name,\n",
    "            patch_artist = True,\n",
    "            boxprops = dict(facecolor = 'whitesmoke'),\n",
    "            capprops = dict(color = 'red'),\n",
    "            medianprops = dict(color = 'green'),\n",
    "            flierprops = dict(marker = '.', markerfacecolor = 'red', markeredgecolor = 'red'))\n",
    "ax3.set_title('Years of Experience Distribution in different countries (box plot)', fontsize = 12)\n",
    "ax3.set_xlabel('Country', fontsize = 9)\n",
    "ax3.set_ylabel('Years of Experience', fontsize = 9)\n",
    "ax3.tick_params(axis = 'both', labelsize = 8)"
   ]
  },
  {
   "cell_type": "markdown",
   "id": "d7ea830b",
   "metadata": {
    "id": "Hwyf3lZsR3aP"
   },
   "source": [
    "From the box plot above, it can be observed that each country has some outliers. Excluding these outliers, engineers in China have the most years of work experience, exceeding 20 years. The second-highest countries are Canada and the USA, where engineers have a maximum work experience of 19 years."
   ]
  },
  {
   "cell_type": "code",
   "execution_count": 23,
   "id": "c497ad27",
   "metadata": {
    "cellView": "form",
    "colab": {
     "base_uri": "https://localhost:8080/",
     "height": 240
    },
    "id": "GnoZnM_6Ry6z",
    "outputId": "4628a523-ae4b-4f98-d18d-3d5738a927ad"
   },
   "outputs": [
    {
     "data": {
      "image/png": "[encoded data removed]",
      "text/plain": [
       "<Figure size 2700x400 with 10 Axes>"
      ]
     },
     "metadata": {},
     "output_type": "display_data"
    }
   ],
   "source": [
    "fig4, ax4 = plt.subplots(1, 5, figsize = (27,4))\n",
    "\n",
    "for i in range(len(data_1)):\n",
    "    ax = ax4[i]\n",
    "\n",
    "    n, bins, patches = ax.hist(data_1[i], bins = 14,\n",
    "                                 range = (0, 42),\n",
    "                                alpha = 0.5,\n",
    "                                color = 'deepskyblue',\n",
    "                                rwidth = 0.9)\n",
    "\n",
    "    ax.set_title(f'{Country_name[i]}', fontsize = 12)\n",
    "    ax.set_xlabel('Years of Experience', fontsize = 9)\n",
    "    if i == 0:\n",
    "        ax.set_ylabel('Frequency', fontsize = 9)\n",
    "    ax.tick_params(axis = 'both', labelsize = 8)\n",
    "    ax.set_ylim(0, 55)\n",
    "    ax.set_xticks(bins)\n",
    "\n",
    "    axb = ax.twinx()\n",
    "\n",
    "    sns.kdeplot(data_1[i], ax = axb, color = 'blue', linewidth = 1)\n",
    "\n",
    "    axb.set_yticks([0, 0.05, 0.1, 0.15])\n",
    "    if i == 4:\n",
    "        axb.set_ylabel('KDE', fontsize = 9, rotation = 270, labelpad = 10)\n",
    "    else:\n",
    "        axb.set_ylabel('')\n",
    "    axb.tick_params(axis = 'both', labelsize = 8)"
   ]
  },
  {
   "cell_type": "markdown",
   "id": "d9ab6a4f",
   "metadata": {
    "id": "kP04shuvR_5z"
   },
   "source": [
    "From the above histograms, they can be observed that the years of work experience distributions in these five countries are right-skewed, indicating a higher proportion of relatively less experienced engineers. The highest number of engineers falls within the years of work experience range of 3 to 6 years."
   ]
  },
  {
   "cell_type": "code",
   "execution_count": 24,
   "id": "f189b30e",
   "metadata": {
    "cellView": "form",
    "colab": {
     "base_uri": "https://localhost:8080/",
     "height": 484
    },
    "id": "qVuW2zYBRyyO",
    "outputId": "383f8c95-3b29-41c3-b1ac-69701bedbbaf"
   },
   "outputs": [
    {
     "data": {
      "text/plain": [
       "[<matplotlib.lines.Line2D at 0x154c28b50>]"
      ]
     },
     "execution_count": 24,
     "metadata": {},
     "output_type": "execute_result"
    },
    {
     "data": {
      "image/png": "[encoded data removed]",
      "text/plain": [
       "<Figure size 640x480 with 1 Axes>"
      ]
     },
     "metadata": {},
     "output_type": "display_data"
    }
   ],
   "source": [
    "fig5, ax5 = plt.subplots()\n",
    "y2 = np.array(df['Years of Experience'])\n",
    "x2 = np.array(df['Salary']/1000)\n",
    "\n",
    "ax5.scatter(x2, y2, color = 'lightsteelblue', s = 7)\n",
    "ax5.set_xlabel('Salary (thousand)', fontsize = 10)\n",
    "ax5.set_ylabel('Years of Experience', fontsize = 10)\n",
    "ax5.tick_params(axis = 'both', labelsize = 6)\n",
    "ax5.set_title('Relationship between Years of Experience and Salary')\n",
    "\n",
    "model2 = LinearRegression()\n",
    "model2.fit(np.array(x2).reshape(-1, 1), y2)\n",
    "ax5.plot(x2, model2.predict(np.array(x2).reshape(-1, 1)), color = 'blue')"
   ]
  },
  {
   "cell_type": "code",
   "execution_count": 25,
   "id": "1de3770e",
   "metadata": {
    "colab": {
     "base_uri": "https://localhost:8080/"
    },
    "id": "7drZOHoARyvS",
    "outputId": "d80bcf33-3982-4fb7-87ce-61a9081ecfd6"
   },
   "outputs": [
    {
     "data": {
      "text/plain": [
       "0.7080574507840073"
      ]
     },
     "execution_count": 25,
     "metadata": {},
     "output_type": "execute_result"
    }
   ],
   "source": [
    "# correlation coefficient\n",
    "df['Years of Experience'].corr(df['Salary'])"
   ]
  },
  {
   "cell_type": "markdown",
   "id": "f1c7126b",
   "metadata": {
    "id": "6FriuYqnSPMf"
   },
   "source": [
    "The plot above illustrates the relationship between years of experience and salary. The blue solid line represents the linear regression line, and their correlation coefficient is 0.71, exceeding 0.7. This suggests a strong positive correlation between years of experience and salary for the engineering profession."
   ]
  },
  {
   "cell_type": "markdown",
   "id": "c68ffcb1",
   "metadata": {
    "id": "ohnr2O_jSTZU"
   },
   "source": [
    "#### Education Level:\n",
    "Finally, looking at education levels, we will calculate the ratio of each level for engineers in these five countries. Then we will draw pie charts by using matplotlib's [pie](https://matplotlib.org/stable/api/_as_gen/matplotlib.pyplot.pie.html) to illustrate the distribution of engineers' education levels across the five countries."
   ]
  },
  {
   "cell_type": "code",
   "execution_count": 26,
   "id": "a1a8e5f8",
   "metadata": {
    "cellView": "form",
    "id": "bsVK-kPns2PS"
   },
   "outputs": [],
   "source": [
    "edu_Australia2 = df[df.Country=='Australia'].groupby('Education Level').count()\n",
    "temp = []\n",
    "for i in range(len(edu_Australia2.index)):\n",
    "    temp.append(edu_Australia2.iloc[i][1])\n",
    "temp_sum = sum(temp)\n",
    "edu_Australia_ratio = [x / temp_sum for x in temp]\n",
    "\n",
    "edu_Canada2 = df[df.Country=='Canada'].groupby('Education Level').count()\n",
    "temp = []\n",
    "for i in range(len(edu_Canada2.index)):\n",
    "    temp.append(edu_Canada2.iloc[i][1])\n",
    "temp_sum = sum(temp)\n",
    "edu_Canada_ratio = [x / temp_sum for x in temp]\n",
    "\n",
    "edu_China2 = df[df.Country=='China'].groupby('Education Level').count()\n",
    "temp = []\n",
    "for i in range(len(edu_China2.index)):\n",
    "    temp.append(edu_China2.iloc[i][1])\n",
    "temp_sum = sum(temp)\n",
    "edu_China_ratio = [x / temp_sum for x in temp]\n",
    "\n",
    "edu_UK2 = df[df.Country=='UK'].groupby('Education Level').count()\n",
    "temp = []\n",
    "for i in range(len(edu_UK2.index)):\n",
    "    temp.append(edu_UK2.iloc[i][1])\n",
    "temp_sum = sum(temp)\n",
    "edu_UK_ratio = [x / temp_sum for x in temp]\n",
    "\n",
    "edu_USA2 = df[df.Country=='USA'].groupby('Education Level').count()\n",
    "temp = []\n",
    "for i in range(len(edu_USA2.index)):\n",
    "    temp.append(edu_USA2.iloc[i][1])\n",
    "temp_sum = sum(temp)\n",
    "edu_USA_ratio = [x / temp_sum for x in temp]"
   ]
  },
  {
   "cell_type": "code",
   "execution_count": 27,
   "id": "c8fa3839",
   "metadata": {
    "cellView": "form",
    "colab": {
     "base_uri": "https://localhost:8080/",
     "height": 267
    },
    "id": "sjsVpPBes2Mr",
    "outputId": "b0bba811-46d8-403f-edf3-9301f0d63f5d"
   },
   "outputs": [
    {
     "data": {
      "image/png": "[encoded data removed]",
      "text/plain": [
       "<Figure size 2200x400 with 5 Axes>"
      ]
     },
     "metadata": {},
     "output_type": "display_data"
    }
   ],
   "source": [
    "data_2 = [edu_Australia_ratio, edu_Canada_ratio, edu_China_ratio, edu_UK_ratio, edu_USA_ratio]\n",
    "\n",
    "fig6, ax6 = plt.subplots(1, 5, figsize=(22, 4))\n",
    "\n",
    "for i in range(len(data_2)):\n",
    "    ax = ax6[i]\n",
    "    if len(data_2[i]) == 4:\n",
    "        ax.pie(data_2[i],\n",
    "               labels = ['Level 0', 'Level 1', 'Level 2', 'Level 3'],\n",
    "               autopct = lambda p: f'{p:.1f}%' if p > 2 else '',\n",
    "               startangle = 90,\n",
    "               pctdistance = 0.5,\n",
    "               colors = ['yellow', 'deepskyblue', 'lightcoral', 'lightgreen'])\n",
    "\n",
    "        ax.set_title(f'{Country_name[i]}', fontsize = 12)\n",
    "    else:\n",
    "        ax.pie(data_2[i],\n",
    "               labels = ['Level 1', 'Level 2', 'Level 3'],\n",
    "               autopct ='%1.1f%%',\n",
    "               startangle = 90,\n",
    "               colors = ['deepskyblue', 'lightcoral', 'lightgreen'])\n",
    "\n",
    "        ax.set_title(f'{Country_name[i]}', fontsize = 12)"
   ]
  },
  {
   "cell_type": "markdown",
   "id": "aa4a81ee",
   "metadata": {
    "id": "qoRNNs9NS1QR"
   },
   "source": [
    "From the pie charts above, they can be observed that only Australia has engineers with education level 0. Engineers in other countries have at least education level 1. Additionally, among these five countries, engineers with education level 1 are the most numerous, followed by education level 2, then education level 3. Lastly, the number of engineers with education level 0 is the lowest.\n",
    "\n",
    "The education levels are categorized as follows: level 0 represents high school graduation, level 1 represents university graduation, level 2 represents postgraduate studies, and level 3 represents doctoral graduation."
   ]
  },
  {
   "cell_type": "code",
   "execution_count": 28,
   "id": "1b002e23",
   "metadata": {
    "cellView": "form",
    "colab": {
     "base_uri": "https://localhost:8080/",
     "height": 535
    },
    "id": "NnW6DtjD_x7B",
    "outputId": "e565996c-1dbb-4ea4-9626-8cc01c42d3b2"
   },
   "outputs": [
    {
     "data": {
      "text/plain": [
       "[<matplotlib.axis.YTick at 0x1554f9010>,\n",
       " <matplotlib.axis.YTick at 0x1554e6ed0>,\n",
       " <matplotlib.axis.YTick at 0x1554ebd90>,\n",
       " <matplotlib.axis.YTick at 0x15550f9d0>]"
      ]
     },
     "execution_count": 28,
     "metadata": {},
     "output_type": "execute_result"
    },
    {
     "data": {
      "image/png": "[encoded data removed]",
      "text/plain": [
       "<Figure size 640x480 with 1 Axes>"
      ]
     },
     "metadata": {},
     "output_type": "display_data"
    }
   ],
   "source": [
    "fig7, ax7 = plt.subplots()\n",
    "y3 = np.array(df['Education Level'])\n",
    "x3 = np.array(df['Salary']/1000)\n",
    "\n",
    "ax7.scatter(x3, y3, color = 'blue', s = 7)\n",
    "ax7.set_xlabel('Salary (thousand)', fontsize = 10)\n",
    "ax7.set_ylabel('Education Level', fontsize = 10)\n",
    "ax7.tick_params(axis = 'both', labelsize = 6)\n",
    "ax7.set_title('Relationship between Education Level and Salary')\n",
    "ax7.set_yticks([0, 1, 2, 3])"
   ]
  },
  {
   "cell_type": "markdown",
   "id": "e2b6b313",
   "metadata": {
    "id": "cSJxTs5pTEEb"
   },
   "source": [
    "The plot indicates that engineers with higher education levels have higher minimum salaries. However, the maximum salary does not seem to vary based on the education level. This suggests that, overall, engineers with education levels 0 or 1 may still have higher salaries compared to engineers with education levels 2 or 3. In summary, there is no direct correlation between education level and salary for engineers."
   ]
  },
  {
   "cell_type": "markdown",
   "id": "50b7171c",
   "metadata": {
    "id": "voSK5haoju1L"
   },
   "source": [
    "In conclusion, based on our dataset, we believe that the most influential factor affecting engineers' salaries is work experience, followed by age, with education level being a lesser contributing factor."
   ]
  },
  {
   "cell_type": "markdown",
   "id": "a69797b9",
   "metadata": {
    "id": "QQ8NCEInTFxU"
   },
   "source": [
    "### Step 4: Export the clean data to a database"
   ]
  },
  {
   "cell_type": "markdown",
   "id": "d672aa3a",
   "metadata": {},
   "source": [
    "We will interact with a SQLite database using the [sqlite3](https://docs.python.org/3/library/sqlite3.html) library and pandas.\n",
    "\n",
    "First, we will establish a connection to an SQLite database named 'Data of Engineers Salary.db'. Then, we will take our DataFrame (df) and write it to an SQLite table named 'df' in the connected database (conn). In the eand, we will read the content of this table back into a new DataFrame using a SQL SELECT query to check the entire content of the 'df' table."
   ]
  },
  {
   "cell_type": "code",
   "execution_count": 29,
   "id": "20e0d654",
   "metadata": {
    "id": "es7eRJ0KOLTh"
   },
   "outputs": [],
   "source": [
    "conn = sqlite3.connect('Data of Engineers Salary.db')"
   ]
  },
  {
   "cell_type": "code",
   "execution_count": 30,
   "id": "86f11906",
   "metadata": {
    "colab": {
     "base_uri": "https://localhost:8080/"
    },
    "id": "SyWriRXbs125",
    "outputId": "e6fc2e8b-0429-46b0-eb7e-1144d8652e0c"
   },
   "outputs": [
    {
     "data": {
      "text/plain": [
       "594"
      ]
     },
     "execution_count": 30,
     "metadata": {},
     "output_type": "execute_result"
    }
   ],
   "source": [
    "df.to_sql('df', conn, index = False, if_exists = 'append')"
   ]
  },
  {
   "cell_type": "code",
   "execution_count": 31,
   "id": "19419631",
   "metadata": {
    "colab": {
     "base_uri": "https://localhost:8080/",
     "height": 419
    },
    "id": "ibOR1znSRQbt",
    "outputId": "f3bcc7e3-e988-481b-9022-5a7acd382e19",
    "scrolled": true
   },
   "outputs": [
    {
     "data": {
      "text/html": [
       "<div>\n",
       "<style scoped>\n",
       "    .dataframe tbody tr th:only-of-type {\n",
       "        vertical-align: middle;\n",
       "    }\n",
       "\n",
       "    .dataframe tbody tr th {\n",
       "        vertical-align: top;\n",
       "    }\n",
       "\n",
       "    .dataframe thead th {\n",
       "        text-align: right;\n",
       "    }\n",
       "</style>\n",
       "<table border=\"1\" class=\"dataframe\">\n",
       "  <thead>\n",
       "    <tr style=\"text-align: right;\">\n",
       "      <th></th>\n",
       "      <th>Age</th>\n",
       "      <th>Education Level</th>\n",
       "      <th>Job Title</th>\n",
       "      <th>Years of Experience</th>\n",
       "      <th>Salary</th>\n",
       "      <th>Country</th>\n",
       "    </tr>\n",
       "  </thead>\n",
       "  <tbody>\n",
       "    <tr>\n",
       "      <th>0</th>\n",
       "      <td>32.0</td>\n",
       "      <td>1</td>\n",
       "      <td>Software Engineer</td>\n",
       "      <td>5.0</td>\n",
       "      <td>90000.0</td>\n",
       "      <td>UK</td>\n",
       "    </tr>\n",
       "    <tr>\n",
       "      <th>1</th>\n",
       "      <td>32.0</td>\n",
       "      <td>2</td>\n",
       "      <td>Software Engineer</td>\n",
       "      <td>6.0</td>\n",
       "      <td>100000.0</td>\n",
       "      <td>USA</td>\n",
       "    </tr>\n",
       "    <tr>\n",
       "      <th>2</th>\n",
       "      <td>28.0</td>\n",
       "      <td>1</td>\n",
       "      <td>Software Engineer</td>\n",
       "      <td>2.0</td>\n",
       "      <td>40000.0</td>\n",
       "      <td>Australia</td>\n",
       "    </tr>\n",
       "    <tr>\n",
       "      <th>3</th>\n",
       "      <td>34.0</td>\n",
       "      <td>2</td>\n",
       "      <td>Software Engineer</td>\n",
       "      <td>9.0</td>\n",
       "      <td>105000.0</td>\n",
       "      <td>China</td>\n",
       "    </tr>\n",
       "    <tr>\n",
       "      <th>4</th>\n",
       "      <td>44.0</td>\n",
       "      <td>1</td>\n",
       "      <td>Software Engineer</td>\n",
       "      <td>14.0</td>\n",
       "      <td>130000.0</td>\n",
       "      <td>China</td>\n",
       "    </tr>\n",
       "    <tr>\n",
       "      <th>...</th>\n",
       "      <td>...</td>\n",
       "      <td>...</td>\n",
       "      <td>...</td>\n",
       "      <td>...</td>\n",
       "      <td>...</td>\n",
       "      <td>...</td>\n",
       "    </tr>\n",
       "    <tr>\n",
       "      <th>1183</th>\n",
       "      <td>33.0</td>\n",
       "      <td>2</td>\n",
       "      <td>Software Engineer</td>\n",
       "      <td>8.0</td>\n",
       "      <td>120000.0</td>\n",
       "      <td>UK</td>\n",
       "    </tr>\n",
       "    <tr>\n",
       "      <th>1184</th>\n",
       "      <td>28.0</td>\n",
       "      <td>1</td>\n",
       "      <td>Software Engineer</td>\n",
       "      <td>3.0</td>\n",
       "      <td>70000.0</td>\n",
       "      <td>UK</td>\n",
       "    </tr>\n",
       "    <tr>\n",
       "      <th>1185</th>\n",
       "      <td>28.0</td>\n",
       "      <td>1</td>\n",
       "      <td>Software Engineer</td>\n",
       "      <td>3.0</td>\n",
       "      <td>70000.0</td>\n",
       "      <td>Canada</td>\n",
       "    </tr>\n",
       "    <tr>\n",
       "      <th>1186</th>\n",
       "      <td>26.0</td>\n",
       "      <td>2</td>\n",
       "      <td>Software Engineer</td>\n",
       "      <td>2.0</td>\n",
       "      <td>75000.0</td>\n",
       "      <td>China</td>\n",
       "    </tr>\n",
       "    <tr>\n",
       "      <th>1187</th>\n",
       "      <td>27.0</td>\n",
       "      <td>1</td>\n",
       "      <td>Software Engineer</td>\n",
       "      <td>2.0</td>\n",
       "      <td>70000.0</td>\n",
       "      <td>Australia</td>\n",
       "    </tr>\n",
       "  </tbody>\n",
       "</table>\n",
       "<p>1188 rows × 6 columns</p>\n",
       "</div>"
      ],
      "text/plain": [
       "       Age  Education Level          Job Title  Years of Experience    Salary  \\\n",
       "0     32.0                1  Software Engineer                  5.0   90000.0   \n",
       "1     32.0                2  Software Engineer                  6.0  100000.0   \n",
       "2     28.0                1  Software Engineer                  2.0   40000.0   \n",
       "3     34.0                2  Software Engineer                  9.0  105000.0   \n",
       "4     44.0                1  Software Engineer                 14.0  130000.0   \n",
       "...    ...              ...                ...                  ...       ...   \n",
       "1183  33.0                2  Software Engineer                  8.0  120000.0   \n",
       "1184  28.0                1  Software Engineer                  3.0   70000.0   \n",
       "1185  28.0                1  Software Engineer                  3.0   70000.0   \n",
       "1186  26.0                2  Software Engineer                  2.0   75000.0   \n",
       "1187  27.0                1  Software Engineer                  2.0   70000.0   \n",
       "\n",
       "        Country  \n",
       "0            UK  \n",
       "1           USA  \n",
       "2     Australia  \n",
       "3         China  \n",
       "4         China  \n",
       "...         ...  \n",
       "1183         UK  \n",
       "1184         UK  \n",
       "1185     Canada  \n",
       "1186      China  \n",
       "1187  Australia  \n",
       "\n",
       "[1188 rows x 6 columns]"
      ]
     },
     "execution_count": 31,
     "metadata": {},
     "output_type": "execute_result"
    }
   ],
   "source": [
    "pd.read_sql('select * from df',conn)"
   ]
  },
  {
   "cell_type": "code",
   "execution_count": null,
   "id": "54a44ba5",
   "metadata": {},
   "outputs": [],
   "source": []
  }
 ],
 "metadata": {
  "kernelspec": {
   "display_name": "Python 3 (ipykernel)",
   "language": "python",
   "name": "python3"
  },
  "language_info": {
   "codemirror_mode": {
    "name": "ipython",
    "version": 3
   },
   "file_extension": ".py",
   "mimetype": "text/x-python",
   "name": "python",
   "nbconvert_exporter": "python",
   "pygments_lexer": "ipython3",
   "version": "3.11.4"
  }
 },
 "nbformat": 4,
 "nbformat_minor": 5
}
